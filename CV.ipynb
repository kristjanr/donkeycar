{
 "cells": [
  {
   "cell_type": "code",
   "execution_count": 1,
   "outputs": [],
   "source": [
    "import sys\n",
    "\n",
    "for a in ['', '/Users/kristjan.roosild/opt/miniconda3/envs/donkey/lib/python37.zip',\n",
    "          '/Users/kristjan.roosild/opt/miniconda3/envs/donkey/lib/python3.7',\n",
    "          '/Users/kristjan.roosild/opt/miniconda3/envs/donkey/lib/python3.7/lib-dynload',\n",
    "          '/Users/kristjan.roosild/.local/lib/python3.7/site-packages',\n",
    "          '/Users/kristjan.roosild/opt/miniconda3/envs/donkey/lib/python3.7/site-packages',\n",
    "          '/Users/kristjan.roosild/projects/donkeycar',\n",
    "          '/Users/kristjan.roosild/opt/miniconda3/envs/donkey/lib/python3.7/site-packages/locket-0.2.1-py3.7.egg']:\n",
    "    sys.path.append(a)"
   ],
   "metadata": {
    "collapsed": false,
    "pycharm": {
     "name": "#%%\n"
    }
   }
  },
  {
   "cell_type": "code",
   "execution_count": 2,
   "outputs": [
    {
     "name": "stdout",
     "output_type": "stream",
     "text": [
      "________             ______                   _________              \n",
      "___  __ \\_______________  /___________  __    __  ____/_____ ________\n",
      "__  / / /  __ \\_  __ \\_  //_/  _ \\_  / / /    _  /    _  __ `/_  ___/\n",
      "_  /_/ // /_/ /  / / /  ,<  /  __/  /_/ /     / /___  / /_/ /_  /    \n",
      "/_____/ \\____//_/ /_//_/|_| \\___/_\\__, /      \\____/  \\__,_/ /_/     \n",
      "                                 /____/                              \n",
      "\n",
      "using donkey v4.2.1 ...\n"
     ]
    },
    {
     "name": "stderr",
     "output_type": "stream",
     "text": [
      "INFO:numexpr.utils:Note: NumExpr detected 12 cores but \"NUMEXPR_MAX_THREADS\" not set, so enforcing safe limit of 8.\n",
      "INFO:numexpr.utils:NumExpr defaulting to 8 threads.\n"
     ]
    }
   ],
   "source": [
    "from donkeycar.parts.keras import KerasLinear, KerasLinearOnlySteering, \\\n",
    "    KerasInterpreter, KerasLSTMOnlySteering, Keras3D_CNNOnlySteering, KerasMemoryOnlySteering\n",
    "\n",
    "import donkeycar as dk\n",
    "\n",
    "import math\n",
    "import os\n",
    "from typing import List, Dict, Union, Tuple\n",
    "\n",
    "from donkeycar.config import Config\n",
    "from donkeycar.parts.keras import KerasPilot\n",
    "from donkeycar.pipeline.database import PilotDatabase\n",
    "from donkeycar.pipeline.sequence import TubRecord, TubSequence, TfmIterator\n",
    "from donkeycar.pipeline.types import TubDataset\n",
    "from donkeycar.pipeline.augmentations import ImageAugmentation\n",
    "from donkeycar.utils import normalize_image, train_test_split\n",
    "import tensorflow as tf\n",
    "import numpy as np\n",
    "\n",
    "\n",
    "class BatchSequence(object):\n",
    "    \"\"\"\n",
    "    The idea is to have a shallow sequence with types that can hydrate\n",
    "    themselves to np.ndarray initially and later into the types required by\n",
    "    tf.data (i.e. dictionaries or np.ndarrays).\n",
    "    \"\"\"\n",
    "\n",
    "    def __init__(self,\n",
    "                 model: KerasPilot,\n",
    "                 config: Config,\n",
    "                 records: List[TubRecord],\n",
    "                 is_train: bool) -> None:\n",
    "        self.model = model\n",
    "        self.config = config\n",
    "        self.sequence = TubSequence(records)\n",
    "        self.batch_size = self.config.BATCH_SIZE\n",
    "        self.is_train = is_train\n",
    "        self.augmentation = ImageAugmentation(config, 'AUGMENTATIONS')\n",
    "        self.transformation = ImageAugmentation(config, 'TRANSFORMATIONS')\n",
    "        self.pipeline = self._create_pipeline()\n",
    "\n",
    "    def __len__(self) -> int:\n",
    "        return math.ceil(len(self.pipeline) / self.batch_size)\n",
    "\n",
    "    def image_processor(self, img_arr):\n",
    "        \"\"\" Transformes the images and augments if in training. Then\n",
    "            normalizes it. \"\"\"\n",
    "        img_arr = self.transformation.run(img_arr)\n",
    "        if self.is_train:\n",
    "            img_arr = self.augmentation.run(img_arr)\n",
    "        norm_img = normalize_image(img_arr)\n",
    "        return norm_img\n",
    "\n",
    "    def _create_pipeline(self) -> TfmIterator:\n",
    "        \"\"\" This can be overridden if more complicated pipelines are\n",
    "            required \"\"\"\n",
    "\n",
    "        # 1. Initialise TubRecord -> x, y transformations\n",
    "        def get_x(record: TubRecord) -> Dict[str, Union[float, np.ndarray]]:\n",
    "            \"\"\" Extracting x from record for training\"\"\"\n",
    "            out_tuple = self.model.x_transform_and_process(\n",
    "                record, self.image_processor)\n",
    "            # convert tuple to dictionary which is understood by tf.data\n",
    "            out_dict = self.model.x_translate(out_tuple)\n",
    "            return out_dict\n",
    "\n",
    "        def get_y(record: TubRecord) -> Dict[str, Union[float, np.ndarray]]:\n",
    "            \"\"\" Extracting y from record for training \"\"\"\n",
    "            y0 = self.model.y_transform(record)\n",
    "            y1 = self.model.y_translate(y0)\n",
    "            return y1\n",
    "\n",
    "        # 2. Build pipeline using the transformations\n",
    "        pipeline = self.sequence.build_pipeline(x_transform=get_x,\n",
    "                                                y_transform=get_y)\n",
    "        return pipeline\n",
    "\n",
    "    def create_tf_data(self) -> tf.data.Dataset:\n",
    "        \"\"\" Assembles the tf data pipeline \"\"\"\n",
    "        dataset = tf.data.Dataset.from_generator(\n",
    "            generator=lambda: self.pipeline,\n",
    "            output_types=self.model.output_types(),\n",
    "            output_shapes=self.model.output_shapes())\n",
    "        return dataset.repeat().batch(self.batch_size)\n",
    "\n",
    "\n",
    "def get_model_train_details(database: PilotDatabase, model: str = None) -> Tuple[str, int]:\n",
    "    if not model:\n",
    "        model_name, model_num = database.generate_model_name()\n",
    "    else:\n",
    "        model_name, model_num = os.path.abspath(model), 0\n",
    "    return model_name, model_num\n"
   ],
   "metadata": {
    "collapsed": false,
    "pycharm": {
     "name": "#%%\n"
    }
   }
  },
  {
   "cell_type": "code",
   "execution_count": 3,
   "outputs": [
    {
     "name": "stderr",
     "output_type": "stream",
     "text": [
      "INFO:donkeycar.pipeline.types:Loading tubs from paths ['/Users/kristjan.roosild/OneDrive/kool/maka/data/1-1-CC-80']\n"
     ]
    },
    {
     "name": "stdout",
     "output_type": "stream",
     "text": [
      "loading config file: /Users/kristjan.roosild/mycar/config.py\n",
      "loading personal config over-rides from myconfig.py\n",
      "Using catalog /Users/kristjan.roosild/OneDrive/kool/maka/data/1-1-CC-80/catalog_4.catalog\n"
     ]
    },
    {
     "name": "stderr",
     "output_type": "stream",
     "text": [
      "INFO:donkeycar.pipeline.types:Loading tubs from paths ['/Users/kristjan.roosild/OneDrive/kool/maka/data/2-1-CW-80']\n"
     ]
    },
    {
     "name": "stdout",
     "output_type": "stream",
     "text": [
      "Using catalog /Users/kristjan.roosild/OneDrive/kool/maka/data/2-1-CW-80/catalog_4.catalog\n"
     ]
    },
    {
     "name": "stderr",
     "output_type": "stream",
     "text": [
      "INFO:donkeycar.pipeline.types:Loading tubs from paths ['/Users/kristjan.roosild/OneDrive/kool/maka/data/4-1-CC-80']\n"
     ]
    },
    {
     "name": "stdout",
     "output_type": "stream",
     "text": [
      "Using catalog /Users/kristjan.roosild/OneDrive/kool/maka/data/4-1-CC-80/catalog_5.catalog\n"
     ]
    },
    {
     "name": "stderr",
     "output_type": "stream",
     "text": [
      "INFO:donkeycar.pipeline.types:Loading tubs from paths ['/Users/kristjan.roosild/OneDrive/kool/maka/data/1-3-CC-85']\n"
     ]
    },
    {
     "name": "stdout",
     "output_type": "stream",
     "text": [
      "Using catalog /Users/kristjan.roosild/OneDrive/kool/maka/data/1-3-CC-85/catalog_4.catalog\n"
     ]
    },
    {
     "name": "stderr",
     "output_type": "stream",
     "text": [
      "INFO:donkeycar.pipeline.types:Loading tubs from paths ['/Users/kristjan.roosild/OneDrive/kool/maka/data/2-3-CW-85']\n"
     ]
    },
    {
     "name": "stdout",
     "output_type": "stream",
     "text": [
      "Using catalog /Users/kristjan.roosild/OneDrive/kool/maka/data/2-3-CW-85/catalog_6.catalog\n"
     ]
    },
    {
     "name": "stderr",
     "output_type": "stream",
     "text": [
      "INFO:donkeycar.pipeline.types:Loading tubs from paths ['/Users/kristjan.roosild/OneDrive/kool/maka/data/3-3-CW-85']\n"
     ]
    },
    {
     "name": "stdout",
     "output_type": "stream",
     "text": [
      "Using catalog /Users/kristjan.roosild/OneDrive/kool/maka/data/3-3-CW-85/catalog_4.catalog\n"
     ]
    },
    {
     "name": "stderr",
     "output_type": "stream",
     "text": [
      "INFO:donkeycar.pipeline.types:Loading tubs from paths ['/Users/kristjan.roosild/OneDrive/kool/maka/data/4-3-CC-85']\n"
     ]
    },
    {
     "name": "stdout",
     "output_type": "stream",
     "text": [
      "Using catalog /Users/kristjan.roosild/OneDrive/kool/maka/data/4-3-CC-85/catalog_4.catalog\n"
     ]
    },
    {
     "name": "stderr",
     "output_type": "stream",
     "text": [
      "INFO:donkeycar.pipeline.types:Loading tubs from paths ['/Users/kristjan.roosild/OneDrive/kool/maka/data/1-2-CC-90']\n"
     ]
    },
    {
     "name": "stdout",
     "output_type": "stream",
     "text": [
      "Using catalog /Users/kristjan.roosild/OneDrive/kool/maka/data/1-2-CC-90/catalog_4.catalog\n"
     ]
    },
    {
     "name": "stderr",
     "output_type": "stream",
     "text": [
      "INFO:donkeycar.pipeline.types:Loading tubs from paths ['/Users/kristjan.roosild/OneDrive/kool/maka/data/2-2-CW-90']\n"
     ]
    },
    {
     "name": "stdout",
     "output_type": "stream",
     "text": [
      "Using catalog /Users/kristjan.roosild/OneDrive/kool/maka/data/2-2-CW-90/catalog_2.catalog\n"
     ]
    },
    {
     "name": "stderr",
     "output_type": "stream",
     "text": [
      "INFO:donkeycar.pipeline.types:Loading tubs from paths ['/Users/kristjan.roosild/OneDrive/kool/maka/data/3-2-CW-90']\n"
     ]
    },
    {
     "name": "stdout",
     "output_type": "stream",
     "text": [
      "Using catalog /Users/kristjan.roosild/OneDrive/kool/maka/data/3-2-CW-90/catalog_6.catalog\n"
     ]
    },
    {
     "name": "stderr",
     "output_type": "stream",
     "text": [
      "INFO:donkeycar.pipeline.types:Loading tubs from paths ['/Users/kristjan.roosild/OneDrive/kool/maka/data/4-2-CC-90']\n"
     ]
    },
    {
     "name": "stdout",
     "output_type": "stream",
     "text": [
      "Using catalog /Users/kristjan.roosild/OneDrive/kool/maka/data/4-2-CC-90/catalog_7.catalog\n"
     ]
    }
   ],
   "source": [
    "\n",
    "cfg = dk.load_config(config_path='/Users/kristjan.roosild/mycar/config.py')\n",
    "\n",
    "cfg.TRANSFORMATIONS = ['CROP']\n",
    "cfg.ROI_CROP_TOP = 60\n",
    "\n",
    "input_shape = (cfg.IMAGE_H, cfg.IMAGE_W, cfg.IMAGE_DEPTH)\n",
    "\n",
    "tub_names_80_speed = [\n",
    "    '1-1-CC-80',\n",
    "    '2-1-CW-80',\n",
    "    '4-1-CC-80',\n",
    "]\n",
    "\n",
    "tub_names_85_speed = [\n",
    "    '1-3-CC-85',\n",
    "    '2-3-CW-85',\n",
    "    '3-3-CW-85',\n",
    "    '4-3-CC-85'\n",
    "]\n",
    "\n",
    "tub_names_90_speed = [\n",
    "    '1-2-CC-90',\n",
    "    '2-2-CW-90',\n",
    "    '3-2-CW-90',\n",
    "    '4-2-CC-90',\n",
    "]\n",
    "\n",
    "\n",
    "def load_records(tub_name):\n",
    "    return TubDataset(\n",
    "        config=cfg,\n",
    "        tub_paths=[os.path.expanduser('/Users/kristjan.roosild/OneDrive/kool/maka/data/' + tub_name)],\n",
    "        seq_size=0).get_records()\n",
    "\n",
    "\n",
    "tub_records_80_speed = {tn: load_records(tn) for tn in tub_names_80_speed}\n",
    "tub_records_85_speed = {tn: load_records(tn) for tn in tub_names_85_speed}\n",
    "tub_records_90_speed = {tn: load_records(tn) for tn in tub_names_90_speed}\n"
   ],
   "metadata": {
    "collapsed": false,
    "pycharm": {
     "name": "#%%\n"
    }
   }
  },
  {
   "cell_type": "code",
   "execution_count": 4,
   "outputs": [],
   "source": [
    "\n",
    "def prep_fold_data(kl, cfg, data):\n",
    "    training_records, validation_records = train_test_split(data, shuffle=False,\n",
    "                                                            test_size=(1. - cfg.TRAIN_TEST_SPLIT))\n",
    "    print(f'Records # Training {len(training_records)}')\n",
    "    print(f'Records # Validation {len(validation_records)}')\n",
    "    # We need augmentation in validation when using crop / trapeze\n",
    "    training_pipe = BatchSequence(kl, cfg, training_records, is_train=True)\n",
    "    validation_pipe = BatchSequence(kl, cfg, validation_records, is_train=False)\n",
    "    tune = tf.data.experimental.AUTOTUNE\n",
    "    dataset_train = training_pipe.create_tf_data().prefetch(tune)\n",
    "    dataset_validate = validation_pipe.create_tf_data().prefetch(tune)\n",
    "    train_size = len(training_pipe)\n",
    "    val_size = len(validation_pipe)\n",
    "    assert val_size > 0, \"Not enough validation data, decrease the batch size or add more data.\"\n",
    "    return dataset_train, dataset_validate, train_size, val_size\n",
    "\n",
    "\n",
    "import wandb\n",
    "\n",
    "\n",
    "def init_wandb(tub, kl):\n",
    "    config = {\n",
    "        \"tub\": tub,\n",
    "        \"model\": str(kl)\n",
    "    }\n",
    "    wandb.init(project=\"master-thesis\", entity=\"kristjan\", config=config)\n",
    "\n",
    "\n",
    "def train(tub, kl, model_path, cfg, data):\n",
    "    dataset_train, dataset_validate, train_size, val_size = prep_fold_data(kl, cfg, data)\n",
    "    init_wandb(tub, kl)\n",
    "    history = kl.train(model_path=model_path,\n",
    "                       train_data=dataset_train,\n",
    "                       train_steps=train_size,\n",
    "                       batch_size=cfg.BATCH_SIZE,\n",
    "                       validation_data=dataset_validate,\n",
    "                       validation_steps=val_size,\n",
    "                       epochs=cfg.MAX_EPOCHS,\n",
    "                       verbose=cfg.VERBOSE_TRAIN,\n",
    "                       min_delta=cfg.MIN_DELTA,\n",
    "                       patience=cfg.EARLY_STOP_PATIENCE,\n",
    "                       show_plot=cfg.SHOW_PLOT)\n",
    "\n",
    "    return history\n",
    "\n",
    "\n",
    "def mse(v1, v2):\n",
    "    return np.mean((np.array(v1) - np.array(v2)) ** 2)"
   ],
   "metadata": {
    "collapsed": false,
    "pycharm": {
     "name": "#%%\n"
    }
   }
  },
  {
   "cell_type": "code",
   "execution_count": 5,
   "outputs": [],
   "source": [
    "def get_loss(kl, test_records):\n",
    "    pipe = BatchSequence(kl, cfg, test_records, is_train=False)\n",
    "    steps = len(pipe)\n",
    "    tune = tf.data.experimental.AUTOTUNE\n",
    "    dataset = pipe.create_tf_data().prefetch(tune)\n",
    "    test_preds = kl.interpreter.model.predict(\n",
    "        dataset,\n",
    "        workers=2,\n",
    "        use_multiprocessing=True,\n",
    "        steps=steps,\n",
    "        verbose=1)[0]\n",
    "    ground_truth = [r.underlying['user/angle'] for r in test_records]\n",
    "    return mse(ground_truth, test_preds)\n"
   ],
   "metadata": {
    "collapsed": false,
    "pycharm": {
     "name": "#%%\n"
    }
   }
  },
  {
   "cell_type": "code",
   "execution_count": 14,
   "outputs": [
    {
     "data": {
      "text/plain": "'KerasLinearOnlySteering'"
     },
     "execution_count": 14,
     "metadata": {},
     "output_type": "execute_result"
    }
   ],
   "source": [],
   "metadata": {
    "collapsed": false,
    "pycharm": {
     "name": "#%%\n"
    }
   }
  },
  {
   "cell_type": "code",
   "execution_count": 15,
   "outputs": [],
   "source": [
    "\n",
    "def train_tub_1_frame_model(tub_name: str, train_records: list, cfg: Config):\n",
    "    input_shape = (cfg.IMAGE_H, cfg.IMAGE_W, cfg.IMAGE_DEPTH)\n",
    "    kl = KerasLinearOnlySteering(interpreter=KerasInterpreter(), input_shape=input_shape)\n",
    "    model_name = f'{str(kl)}-tub-{tub_name}'\n",
    "    model_path = f'/Users/kristjan.roosild/OneDrive/kool/maka/models/{model_name}.h5'\n",
    "    train(tub_name, kl, model_path, cfg, train_records)\n",
    "    return kl\n",
    "\n",
    "def get_test_metrics(model, tub_name, tub_records_80_speed, tub_records_85_speed, tub_records_90_speed):\n",
    "\n",
    "    test_losses_for_80_speed = {}\n",
    "    test_losses_for_85_speed = {}\n",
    "    test_losses_for_90_speed = {}\n",
    "\n",
    "    print(f'Getting 80-speed mse-s for model trained with {tub_name}')\n",
    "    for test_tub_name, test_records in tub_records_80_speed.items():\n",
    "        mse_80_speed = get_loss(model, test_records)\n",
    "        test_losses_for_80_speed[test_tub_name] = mse_80_speed\n",
    "        wandb.run.summary[\"80_speed_test_loss\"] = mse_80_speed\n",
    "        print(f'80 speed mse for test tub {test_tub_name} is {mse_80_speed}')\n",
    "\n",
    "    print(f'Getting 85-speed mse-s for model trained with {tub_name}')\n",
    "    for test_tub_name, test_records in tub_records_85_speed.items():\n",
    "        mse_85_speed = get_loss(model, test_records)\n",
    "        test_losses_for_85_speed[test_tub_name] = mse_85_speed\n",
    "        wandb.run.summary[\"85_speed_test_loss\"] = mse_85_speed\n",
    "        print(f'85 speed mse for test tub {test_tub_name} is {mse_85_speed}')\n",
    "\n",
    "    print(f'Getting 90-speed mse-s for model trained with {tub_name}')\n",
    "    for test_tub_name, test_records in tub_records_90_speed.items():\n",
    "        if test_tub_name == tub_name:\n",
    "            continue\n",
    "        mse_90_speed = get_loss(model, test_records)\n",
    "        test_losses_for_90_speed[test_tub_name] = mse_90_speed\n",
    "        wandb.run.summary[\"90_speed_test_loss\"] = mse_90_speed\n",
    "        print(f'90 speed mse for test tub {test_tub_name} is {mse_90_speed}')\n",
    "\n",
    "    return test_losses_for_80_speed, test_losses_for_85_speed, test_losses_for_90_speed"
   ],
   "metadata": {
    "collapsed": false,
    "pycharm": {
     "name": "#%%\n"
    }
   }
  },
  {
   "cell_type": "code",
   "execution_count": 16,
   "outputs": [
    {
     "name": "stderr",
     "output_type": "stream",
     "text": [
      "INFO:donkeycar.parts.keras:Created KerasLinearOnlySteering with interpreter: KerasInterpreter\n"
     ]
    },
    {
     "name": "stdout",
     "output_type": "stream",
     "text": [
      "Records # Training 80\n",
      "Records # Validation 20\n"
     ]
    },
    {
     "data": {
      "text/plain": "<IPython.core.display.HTML object>",
      "text/html": "Finishing last run (ID:1dz675n2) before initializing another..."
     },
     "metadata": {},
     "output_type": "display_data"
    },
    {
     "data": {
      "text/plain": "<IPython.core.display.HTML object>",
      "text/html": "<br/>Waiting for W&B process to finish, PID 36899... <strong style=\"color:green\">(success).</strong>"
     },
     "metadata": {},
     "output_type": "display_data"
    },
    {
     "data": {
      "text/plain": "VBox(children=(Label(value=' 9.44MB of 9.44MB uploaded (0.00MB deduped)\\r'), FloatProgress(value=1.0, max=1.0)…",
      "application/vnd.jupyter.widget-view+json": {
       "version_major": 2,
       "version_minor": 0,
       "model_id": "acca00f53ca74a6d8a34b45fb0623d02"
      }
     },
     "metadata": {},
     "output_type": "display_data"
    },
    {
     "data": {
      "text/plain": "<IPython.core.display.HTML object>",
      "text/html": "<style>\n    table.wandb td:nth-child(1) { padding: 0 10px; text-align: right }\n    .wandb-row { display: flex; flex-direction: row; flex-wrap: wrap; width: 100% }\n    .wandb-col { display: flex; flex-direction: column; flex-basis: 100%; flex: 1; padding: 10px; }\n    </style>\n<div class=\"wandb-row\"><div class=\"wandb-col\">\n<h3>Run history:</h3><br/><table class=\"wandb\"><tr><td>epoch</td><td>▁▂▃▃▄▅▆▆▇█</td></tr><tr><td>loss</td><td>▅▅▃▁█▁▅▂▃▄</td></tr><tr><td>n_outputs0_loss</td><td>▅▅▃▁█▁▅▂▃▄</td></tr><tr><td>n_outputs1_loss</td><td>█▆▁▅▇▇▇▆▅▅</td></tr><tr><td>val_loss</td><td>▁█▂▁▁▁▂▄▄▅</td></tr><tr><td>val_n_outputs0_loss</td><td>▁█▂▁▁▁▂▄▄▅</td></tr><tr><td>val_n_outputs1_loss</td><td>▇▁▆███▇▅▄▄</td></tr></table><br/></div><div class=\"wandb-col\">\n<h3>Run summary:</h3><br/><table class=\"wandb\"><tr><td>best_epoch</td><td>4</td></tr><tr><td>best_val_loss</td><td>1.09463</td></tr><tr><td>epoch</td><td>9</td></tr><tr><td>loss</td><td>0.53578</td></tr><tr><td>n_outputs0_loss</td><td>0.53578</td></tr><tr><td>n_outputs1_loss</td><td>0.66125</td></tr><tr><td>val_loss</td><td>1.53242</td></tr><tr><td>val_n_outputs0_loss</td><td>1.53242</td></tr><tr><td>val_n_outputs1_loss</td><td>0.67417</td></tr></table>\n</div></div>\nSynced 6 W&B file(s), 1 media file(s), 0 artifact file(s) and 1 other file(s)\n<br/>Synced <strong style=\"color:#cdcd00\">prime-fog-28</strong>: <a href=\"https://wandb.ai/kristjan/master-thesis/runs/1dz675n2\" target=\"_blank\">https://wandb.ai/kristjan/master-thesis/runs/1dz675n2</a><br/>\nFind logs at: <code>./wandb/run-20220213_211635-1dz675n2/logs</code><br/>\n"
     },
     "metadata": {},
     "output_type": "display_data"
    },
    {
     "data": {
      "text/plain": "<IPython.core.display.HTML object>",
      "text/html": "Successfully finished last run (ID:1dz675n2). Initializing new run:<br/>"
     },
     "metadata": {},
     "output_type": "display_data"
    },
    {
     "data": {
      "text/plain": "<IPython.core.display.HTML object>",
      "text/html": "\n                    Syncing run <strong><a href=\"https://wandb.ai/kristjan/master-thesis/runs/2ttbprr3\" target=\"_blank\">young-bee-29</a></strong> to <a href=\"https://wandb.ai/kristjan/master-thesis\" target=\"_blank\">Weights & Biases</a> (<a href=\"https://docs.wandb.com/integrations/jupyter.html\" target=\"_blank\">docs</a>).<br/>\n\n                "
     },
     "metadata": {},
     "output_type": "display_data"
    },
    {
     "name": "stdout",
     "output_type": "stream",
     "text": [
      "Epoch 1/100\n",
      "1/1 [==============================] - ETA: 0s - loss: 0.4281 - n_outputs0_loss: 0.4281 - n_outputs1_loss: 0.7581\n",
      "Epoch 00001: val_loss improved from inf to 5.10648, saving model to /Users/kristjan.roosild/OneDrive/kool/maka/models/KerasLinearOnlySteering-tub-1-2-CC-90.h5\n",
      "1/1 [==============================] - 1s 1s/step - loss: 0.4281 - n_outputs0_loss: 0.4281 - n_outputs1_loss: 0.7581 - val_loss: 5.1065 - val_n_outputs0_loss: 5.1065 - val_n_outputs1_loss: 0.2563\n",
      "Epoch 2/100\n",
      "1/1 [==============================] - ETA: 0s - loss: 3.1852 - n_outputs0_loss: 3.1852 - n_outputs1_loss: 0.3219\n",
      "Epoch 00002: val_loss improved from 5.10648 to 1.30229, saving model to /Users/kristjan.roosild/OneDrive/kool/maka/models/KerasLinearOnlySteering-tub-1-2-CC-90.h5\n",
      "1/1 [==============================] - 1s 1s/step - loss: 3.1852 - n_outputs0_loss: 3.1852 - n_outputs1_loss: 0.3219 - val_loss: 1.3023 - val_n_outputs0_loss: 1.3023 - val_n_outputs1_loss: 0.7644\n",
      "Epoch 3/100\n",
      "1/1 [==============================] - ETA: 0s - loss: 0.4186 - n_outputs0_loss: 0.4186 - n_outputs1_loss: 0.8227\n",
      "Epoch 00003: val_loss improved from 1.30229 to 1.09976, saving model to /Users/kristjan.roosild/OneDrive/kool/maka/models/KerasLinearOnlySteering-tub-1-2-CC-90.h5\n",
      "1/1 [==============================] - 1s 1s/step - loss: 0.4186 - n_outputs0_loss: 0.4186 - n_outputs1_loss: 0.8227 - val_loss: 1.0998 - val_n_outputs0_loss: 1.0998 - val_n_outputs1_loss: 0.8679\n",
      "Epoch 4/100\n",
      "1/1 [==============================] - ETA: 0s - loss: 0.4532 - n_outputs0_loss: 0.4532 - n_outputs1_loss: 0.9281\n",
      "Epoch 00004: val_loss improved from 1.09976 to 1.09228, saving model to /Users/kristjan.roosild/OneDrive/kool/maka/models/KerasLinearOnlySteering-tub-1-2-CC-90.h5\n",
      "1/1 [==============================] - 1s 1s/step - loss: 0.4532 - n_outputs0_loss: 0.4532 - n_outputs1_loss: 0.9281 - val_loss: 1.0923 - val_n_outputs0_loss: 1.0923 - val_n_outputs1_loss: 0.8827\n",
      "Epoch 5/100\n",
      "1/1 [==============================] - ETA: 0s - loss: 0.6636 - n_outputs0_loss: 0.6636 - n_outputs1_loss: 0.9457\n",
      "Epoch 00005: val_loss did not improve from 1.09228\n",
      "1/1 [==============================] - 0s 233ms/step - loss: 0.6636 - n_outputs0_loss: 0.6636 - n_outputs1_loss: 0.9457 - val_loss: 1.1184 - val_n_outputs0_loss: 1.1184 - val_n_outputs1_loss: 0.8973\n",
      "Epoch 6/100\n",
      "1/1 [==============================] - ETA: 0s - loss: 0.4239 - n_outputs0_loss: 0.4239 - n_outputs1_loss: 0.9837\n",
      "Epoch 00006: val_loss did not improve from 1.09228\n",
      "1/1 [==============================] - 0s 207ms/step - loss: 0.4239 - n_outputs0_loss: 0.4239 - n_outputs1_loss: 0.9837 - val_loss: 1.1760 - val_n_outputs0_loss: 1.1760 - val_n_outputs1_loss: 0.9173\n",
      "Epoch 7/100\n",
      "1/1 [==============================] - ETA: 0s - loss: 0.5277 - n_outputs0_loss: 0.5277 - n_outputs1_loss: 1.0530\n",
      "Epoch 00007: val_loss did not improve from 1.09228\n",
      "1/1 [==============================] - 0s 224ms/step - loss: 0.5277 - n_outputs0_loss: 0.5277 - n_outputs1_loss: 1.0530 - val_loss: 1.3108 - val_n_outputs0_loss: 1.3108 - val_n_outputs1_loss: 0.9754\n",
      "Epoch 8/100\n",
      "1/1 [==============================] - ETA: 0s - loss: 0.4522 - n_outputs0_loss: 0.4522 - n_outputs1_loss: 1.1424\n",
      "Epoch 00008: val_loss did not improve from 1.09228\n",
      "1/1 [==============================] - 0s 215ms/step - loss: 0.4522 - n_outputs0_loss: 0.4522 - n_outputs1_loss: 1.1424 - val_loss: 1.6027 - val_n_outputs0_loss: 1.6027 - val_n_outputs1_loss: 1.1148\n",
      "Epoch 9/100\n",
      "1/1 [==============================] - ETA: 0s - loss: 0.4912 - n_outputs0_loss: 0.4912 - n_outputs1_loss: 1.4038\n",
      "Epoch 00009: val_loss did not improve from 1.09228\n",
      "1/1 [==============================] - 0s 221ms/step - loss: 0.4912 - n_outputs0_loss: 0.4912 - n_outputs1_loss: 1.4038 - val_loss: 1.5622 - val_n_outputs0_loss: 1.5622 - val_n_outputs1_loss: 1.1142\n",
      "Getting 80-speed mse-s for model trained with 1-2-CC-90\n",
      "35/35 [==============================] - 11s 326ms/step\n",
      "80 speed mse for test tub 1-1-CC-80 is 0.5121495876018677\n",
      "35/35 [==============================] - 14s 398ms/step\n",
      "80 speed mse for test tub 2-1-CW-80 is 0.2261596911808132\n",
      "37/37 [==============================] - 15s 399ms/step\n",
      "80 speed mse for test tub 4-1-CC-80 is 0.5452733595276026\n",
      "Getting 85-speed mse-s for model trained with 1-2-CC-90\n",
      "34/34 [==============================] - 12s 359ms/step\n",
      "85 speed mse for test tub 1-3-CC-85 is 0.5552775562757177\n",
      "48/48 [==============================] - 20s 422ms/step\n",
      "85 speed mse for test tub 2-3-CW-85 is 0.2504009670682878\n",
      "32/32 [==============================] - 13s 411ms/step\n",
      "85 speed mse for test tub 3-3-CW-85 is 0.20892543351758466\n",
      "35/35 [==============================] - 10s 286ms/step\n",
      "85 speed mse for test tub 4-3-CC-85 is 0.5541812257837287\n",
      "Getting 90-speed mse-s for model trained with 1-2-CC-90\n",
      "10/10 [==============================] - 4s 396ms/step\n",
      "90 speed mse for test tub 2-2-CW-90 is 0.28813563184409746\n",
      "41/41 [==============================] - 20s 484ms/step\n",
      "90 speed mse for test tub 3-2-CW-90 is 0.33700276309550187\n",
      "49/49 [==============================] - 25s 504ms/step\n"
     ]
    },
    {
     "name": "stderr",
     "output_type": "stream",
     "text": [
      "INFO:donkeycar.parts.keras:Created KerasLinearOnlySteering with interpreter: KerasInterpreter\n"
     ]
    },
    {
     "name": "stdout",
     "output_type": "stream",
     "text": [
      "90 speed mse for test tub 4-2-CC-90 is 0.6761212476221078\n",
      "Records # Training 80\n",
      "Records # Validation 20\n"
     ]
    },
    {
     "data": {
      "text/plain": "<IPython.core.display.HTML object>",
      "text/html": "Finishing last run (ID:2ttbprr3) before initializing another..."
     },
     "metadata": {},
     "output_type": "display_data"
    },
    {
     "data": {
      "text/plain": "<IPython.core.display.HTML object>",
      "text/html": "<br/>Waiting for W&B process to finish, PID 37506... <strong style=\"color:green\">(success).</strong>"
     },
     "metadata": {},
     "output_type": "display_data"
    },
    {
     "data": {
      "text/plain": "VBox(children=(Label(value=' 9.44MB of 9.44MB uploaded (0.00MB deduped)\\r'), FloatProgress(value=1.0, max=1.0)…",
      "application/vnd.jupyter.widget-view+json": {
       "version_major": 2,
       "version_minor": 0,
       "model_id": "cac7a9af7ac24764b908f3435af85d0b"
      }
     },
     "metadata": {},
     "output_type": "display_data"
    },
    {
     "data": {
      "text/plain": "<IPython.core.display.HTML object>",
      "text/html": "<style>\n    table.wandb td:nth-child(1) { padding: 0 10px; text-align: right }\n    .wandb-row { display: flex; flex-direction: row; flex-wrap: wrap; width: 100% }\n    .wandb-col { display: flex; flex-direction: column; flex-basis: 100%; flex: 1; padding: 10px; }\n    </style>\n<div class=\"wandb-row\"><div class=\"wandb-col\">\n<h3>Run history:</h3><br/><table class=\"wandb\"><tr><td>epoch</td><td>▁▂▃▄▅▅▆▇█</td></tr><tr><td>loss</td><td>▁█▁▁▂▁▁▁▁</td></tr><tr><td>n_outputs0_loss</td><td>▁█▁▁▂▁▁▁▁</td></tr><tr><td>n_outputs1_loss</td><td>▄▁▄▅▅▅▆▆█</td></tr><tr><td>val_loss</td><td>█▁▁▁▁▁▁▂▂</td></tr><tr><td>val_n_outputs0_loss</td><td>█▁▁▁▁▁▁▂▂</td></tr><tr><td>val_n_outputs1_loss</td><td>▁▅▆▆▆▆▇██</td></tr></table><br/></div><div class=\"wandb-col\">\n<h3>Run summary:</h3><br/><table class=\"wandb\"><tr><td>80_speed_test_loss</td><td>0.54527</td></tr><tr><td>85_speed_test_loss</td><td>0.55418</td></tr><tr><td>90_speed_test_loss</td><td>0.67612</td></tr><tr><td>best_epoch</td><td>3</td></tr><tr><td>best_val_loss</td><td>1.09228</td></tr><tr><td>epoch</td><td>8</td></tr><tr><td>loss</td><td>0.49123</td></tr><tr><td>n_outputs0_loss</td><td>0.49123</td></tr><tr><td>n_outputs1_loss</td><td>1.40381</td></tr><tr><td>val_loss</td><td>1.5622</td></tr><tr><td>val_n_outputs0_loss</td><td>1.5622</td></tr><tr><td>val_n_outputs1_loss</td><td>1.11424</td></tr></table>\n</div></div>\nSynced 6 W&B file(s), 1 media file(s), 0 artifact file(s) and 1 other file(s)\n<br/>Synced <strong style=\"color:#cdcd00\">young-bee-29</strong>: <a href=\"https://wandb.ai/kristjan/master-thesis/runs/2ttbprr3\" target=\"_blank\">https://wandb.ai/kristjan/master-thesis/runs/2ttbprr3</a><br/>\nFind logs at: <code>./wandb/run-20220213_211846-2ttbprr3/logs</code><br/>\n"
     },
     "metadata": {},
     "output_type": "display_data"
    },
    {
     "data": {
      "text/plain": "<IPython.core.display.HTML object>",
      "text/html": "Successfully finished last run (ID:2ttbprr3). Initializing new run:<br/>"
     },
     "metadata": {},
     "output_type": "display_data"
    },
    {
     "data": {
      "text/plain": "<IPython.core.display.HTML object>",
      "text/html": "\n                    Syncing run <strong><a href=\"https://wandb.ai/kristjan/master-thesis/runs/3qbby9as\" target=\"_blank\">sparkling-valley-30</a></strong> to <a href=\"https://wandb.ai/kristjan/master-thesis\" target=\"_blank\">Weights & Biases</a> (<a href=\"https://docs.wandb.com/integrations/jupyter.html\" target=\"_blank\">docs</a>).<br/>\n\n                "
     },
     "metadata": {},
     "output_type": "display_data"
    },
    {
     "name": "stdout",
     "output_type": "stream",
     "text": [
      "Epoch 1/100\n",
      "1/1 [==============================] - ETA: 0s - loss: 0.2535 - n_outputs0_loss: 0.2535 - n_outputs1_loss: 0.7971\n",
      "Epoch 00001: val_loss improved from inf to 0.25028, saving model to /Users/kristjan.roosild/OneDrive/kool/maka/models/KerasLinearOnlySteering-tub-2-2-CW-90.h5\n",
      "1/1 [==============================] - 1s 644ms/step - loss: 0.2535 - n_outputs0_loss: 0.2535 - n_outputs1_loss: 0.7971 - val_loss: 0.2503 - val_n_outputs0_loss: 0.2503 - val_n_outputs1_loss: 0.6992\n",
      "Epoch 2/100\n",
      "1/1 [==============================] - ETA: 0s - loss: 0.3691 - n_outputs0_loss: 0.3691 - n_outputs1_loss: 0.6749\n",
      "Epoch 00002: val_loss improved from 0.25028 to 0.05387, saving model to /Users/kristjan.roosild/OneDrive/kool/maka/models/KerasLinearOnlySteering-tub-2-2-CW-90.h5\n",
      "1/1 [==============================] - 0s 443ms/step - loss: 0.3691 - n_outputs0_loss: 0.3691 - n_outputs1_loss: 0.6749 - val_loss: 0.0539 - val_n_outputs0_loss: 0.0539 - val_n_outputs1_loss: 0.7999\n",
      "Epoch 3/100\n",
      "1/1 [==============================] - ETA: 0s - loss: 0.3221 - n_outputs0_loss: 0.3221 - n_outputs1_loss: 0.7921\n",
      "Epoch 00003: val_loss did not improve from 0.05387\n",
      "1/1 [==============================] - 0s 271ms/step - loss: 0.3221 - n_outputs0_loss: 0.3221 - n_outputs1_loss: 0.7921 - val_loss: 0.0572 - val_n_outputs0_loss: 0.0572 - val_n_outputs1_loss: 0.8023\n",
      "Epoch 4/100\n",
      "1/1 [==============================] - ETA: 0s - loss: 0.3220 - n_outputs0_loss: 0.3220 - n_outputs1_loss: 0.7967\n",
      "Epoch 00004: val_loss did not improve from 0.05387\n",
      "1/1 [==============================] - 0s 302ms/step - loss: 0.3220 - n_outputs0_loss: 0.3220 - n_outputs1_loss: 0.7967 - val_loss: 0.0548 - val_n_outputs0_loss: 0.0548 - val_n_outputs1_loss: 0.7928\n",
      "Epoch 5/100\n",
      "1/1 [==============================] - ETA: 0s - loss: 0.3882 - n_outputs0_loss: 0.3882 - n_outputs1_loss: 0.7882\n",
      "Epoch 00005: val_loss improved from 0.05387 to 0.05153, saving model to /Users/kristjan.roosild/OneDrive/kool/maka/models/KerasLinearOnlySteering-tub-2-2-CW-90.h5\n",
      "1/1 [==============================] - 0s 332ms/step - loss: 0.3882 - n_outputs0_loss: 0.3882 - n_outputs1_loss: 0.7882 - val_loss: 0.0515 - val_n_outputs0_loss: 0.0515 - val_n_outputs1_loss: 0.7501\n",
      "Epoch 6/100\n",
      "1/1 [==============================] - ETA: 0s - loss: 0.2334 - n_outputs0_loss: 0.2334 - n_outputs1_loss: 0.7494\n",
      "Epoch 00006: val_loss did not improve from 0.05153\n",
      "1/1 [==============================] - 0s 237ms/step - loss: 0.2334 - n_outputs0_loss: 0.2334 - n_outputs1_loss: 0.7494 - val_loss: 0.0650 - val_n_outputs0_loss: 0.0650 - val_n_outputs1_loss: 0.6709\n",
      "Epoch 7/100\n",
      "1/1 [==============================] - ETA: 0s - loss: 0.3050 - n_outputs0_loss: 0.3050 - n_outputs1_loss: 0.6707\n",
      "Epoch 00007: val_loss did not improve from 0.05153\n",
      "1/1 [==============================] - 0s 204ms/step - loss: 0.3050 - n_outputs0_loss: 0.3050 - n_outputs1_loss: 0.6707 - val_loss: 0.2051 - val_n_outputs0_loss: 0.2051 - val_n_outputs1_loss: 0.4908\n",
      "Epoch 8/100\n",
      "1/1 [==============================] - ETA: 0s - loss: 0.3415 - n_outputs0_loss: 0.3415 - n_outputs1_loss: 0.4910\n",
      "Epoch 00008: val_loss did not improve from 0.05153\n",
      "1/1 [==============================] - 0s 241ms/step - loss: 0.3415 - n_outputs0_loss: 0.3415 - n_outputs1_loss: 0.4910 - val_loss: 0.0858 - val_n_outputs0_loss: 0.0858 - val_n_outputs1_loss: 0.6259\n",
      "Epoch 9/100\n",
      "1/1 [==============================] - ETA: 0s - loss: 0.2729 - n_outputs0_loss: 0.2729 - n_outputs1_loss: 0.6341\n",
      "Epoch 00009: val_loss did not improve from 0.05153\n",
      "1/1 [==============================] - 0s 327ms/step - loss: 0.2729 - n_outputs0_loss: 0.2729 - n_outputs1_loss: 0.6341 - val_loss: 0.0549 - val_n_outputs0_loss: 0.0549 - val_n_outputs1_loss: 0.7213\n",
      "Epoch 10/100\n",
      "1/1 [==============================] - ETA: 0s - loss: 0.3010 - n_outputs0_loss: 0.3010 - n_outputs1_loss: 0.7103\n",
      "Epoch 00010: val_loss did not improve from 0.05153\n",
      "1/1 [==============================] - 0s 272ms/step - loss: 0.3010 - n_outputs0_loss: 0.3010 - n_outputs1_loss: 0.7103 - val_loss: 0.0526 - val_n_outputs0_loss: 0.0526 - val_n_outputs1_loss: 0.7421\n",
      "Getting 80-speed mse-s for model trained with 2-2-CW-90\n",
      "35/35 [==============================] - 6s 174ms/step\n",
      "80 speed mse for test tub 1-1-CC-80 is 0.3842984230135062\n",
      "35/35 [==============================] - 6s 165ms/step\n",
      "80 speed mse for test tub 2-1-CW-80 is 0.27461998008312627\n",
      "37/37 [==============================] - 6s 164ms/step\n",
      "80 speed mse for test tub 4-1-CC-80 is 0.40442042853171306\n",
      "Getting 85-speed mse-s for model trained with 2-2-CW-90\n",
      "34/34 [==============================] - 5s 160ms/step\n",
      "85 speed mse for test tub 1-3-CC-85 is 0.415788724636174\n",
      "48/48 [==============================] - 8s 163ms/step\n",
      "85 speed mse for test tub 2-3-CW-85 is 0.30722120782802087\n",
      "32/32 [==============================] - 6s 185ms/step\n",
      "85 speed mse for test tub 3-3-CW-85 is 0.25485915474309917\n",
      "35/35 [==============================] - 6s 179ms/step\n",
      "85 speed mse for test tub 4-3-CC-85 is 0.4074119185635324\n",
      "Getting 90-speed mse-s for model trained with 2-2-CW-90\n",
      "31/36 [========================>.....] - ETA: 3s"
     ]
    },
    {
     "ename": "KeyboardInterrupt",
     "evalue": "",
     "output_type": "error",
     "traceback": [
      "\u001B[0;31m---------------------------------------------------------------------------\u001B[0m",
      "\u001B[0;31mKeyboardInterrupt\u001B[0m                         Traceback (most recent call last)",
      "\u001B[0;32m/var/folders/w9/8pmrmvpd47j_nm5l2j2_d9gh0000gp/T/ipykernel_36783/1908331713.py\u001B[0m in \u001B[0;36m<module>\u001B[0;34m\u001B[0m\n\u001B[1;32m      7\u001B[0m \u001B[0;34m\u001B[0m\u001B[0m\n\u001B[1;32m      8\u001B[0m     test_losses_for_80_speed, test_losses_for_85_speed, test_losses_for_90_speed = get_test_metrics(\n\u001B[0;32m----> 9\u001B[0;31m         \u001B[0mmodel\u001B[0m\u001B[0;34m,\u001B[0m \u001B[0mtub_name\u001B[0m\u001B[0;34m,\u001B[0m \u001B[0mtub_records_80_speed\u001B[0m\u001B[0;34m,\u001B[0m \u001B[0mtub_records_85_speed\u001B[0m\u001B[0;34m,\u001B[0m \u001B[0mtub_records_90_speed\u001B[0m\u001B[0;34m\u001B[0m\u001B[0;34m\u001B[0m\u001B[0m\n\u001B[0m\u001B[1;32m     10\u001B[0m     )\n\u001B[1;32m     11\u001B[0m \u001B[0;34m\u001B[0m\u001B[0m\n",
      "\u001B[0;32m/var/folders/w9/8pmrmvpd47j_nm5l2j2_d9gh0000gp/T/ipykernel_36783/1704992890.py\u001B[0m in \u001B[0;36mget_test_metrics\u001B[0;34m(model, tub_name, tub_records_80_speed, tub_records_85_speed, tub_records_90_speed)\u001B[0m\n\u001B[1;32m     31\u001B[0m         \u001B[0;32mif\u001B[0m \u001B[0mtest_tub_name\u001B[0m \u001B[0;34m==\u001B[0m \u001B[0mtub_name\u001B[0m\u001B[0;34m:\u001B[0m\u001B[0;34m\u001B[0m\u001B[0;34m\u001B[0m\u001B[0m\n\u001B[1;32m     32\u001B[0m             \u001B[0;32mcontinue\u001B[0m\u001B[0;34m\u001B[0m\u001B[0;34m\u001B[0m\u001B[0m\n\u001B[0;32m---> 33\u001B[0;31m         \u001B[0mmse_90_speed\u001B[0m \u001B[0;34m=\u001B[0m \u001B[0mget_loss\u001B[0m\u001B[0;34m(\u001B[0m\u001B[0mmodel\u001B[0m\u001B[0;34m,\u001B[0m \u001B[0mtest_records\u001B[0m\u001B[0;34m)\u001B[0m\u001B[0;34m\u001B[0m\u001B[0;34m\u001B[0m\u001B[0m\n\u001B[0m\u001B[1;32m     34\u001B[0m         \u001B[0mtest_losses_for_90_speed\u001B[0m\u001B[0;34m[\u001B[0m\u001B[0mtest_tub_name\u001B[0m\u001B[0;34m]\u001B[0m \u001B[0;34m=\u001B[0m \u001B[0mmse_90_speed\u001B[0m\u001B[0;34m\u001B[0m\u001B[0;34m\u001B[0m\u001B[0m\n\u001B[1;32m     35\u001B[0m         \u001B[0mwandb\u001B[0m\u001B[0;34m.\u001B[0m\u001B[0mrun\u001B[0m\u001B[0;34m.\u001B[0m\u001B[0msummary\u001B[0m\u001B[0;34m[\u001B[0m\u001B[0;34m\"90_speed_test_loss\"\u001B[0m\u001B[0;34m]\u001B[0m \u001B[0;34m=\u001B[0m \u001B[0mmse_90_speed\u001B[0m\u001B[0;34m\u001B[0m\u001B[0;34m\u001B[0m\u001B[0m\n",
      "\u001B[0;32m/var/folders/w9/8pmrmvpd47j_nm5l2j2_d9gh0000gp/T/ipykernel_36783/96678159.py\u001B[0m in \u001B[0;36mget_loss\u001B[0;34m(kl, test_records)\u001B[0m\n\u001B[1;32m      9\u001B[0m         \u001B[0muse_multiprocessing\u001B[0m\u001B[0;34m=\u001B[0m\u001B[0;32mTrue\u001B[0m\u001B[0;34m,\u001B[0m\u001B[0;34m\u001B[0m\u001B[0;34m\u001B[0m\u001B[0m\n\u001B[1;32m     10\u001B[0m         \u001B[0msteps\u001B[0m\u001B[0;34m=\u001B[0m\u001B[0msteps\u001B[0m\u001B[0;34m,\u001B[0m\u001B[0;34m\u001B[0m\u001B[0;34m\u001B[0m\u001B[0m\n\u001B[0;32m---> 11\u001B[0;31m         verbose=1)[0]\n\u001B[0m\u001B[1;32m     12\u001B[0m     \u001B[0mground_truth\u001B[0m \u001B[0;34m=\u001B[0m \u001B[0;34m[\u001B[0m\u001B[0mr\u001B[0m\u001B[0;34m.\u001B[0m\u001B[0munderlying\u001B[0m\u001B[0;34m[\u001B[0m\u001B[0;34m'user/angle'\u001B[0m\u001B[0;34m]\u001B[0m \u001B[0;32mfor\u001B[0m \u001B[0mr\u001B[0m \u001B[0;32min\u001B[0m \u001B[0mtest_records\u001B[0m\u001B[0;34m]\u001B[0m\u001B[0;34m\u001B[0m\u001B[0;34m\u001B[0m\u001B[0m\n\u001B[1;32m     13\u001B[0m     \u001B[0;32mreturn\u001B[0m \u001B[0mmse\u001B[0m\u001B[0;34m(\u001B[0m\u001B[0mground_truth\u001B[0m\u001B[0;34m,\u001B[0m \u001B[0mtest_preds\u001B[0m\u001B[0;34m)\u001B[0m\u001B[0;34m\u001B[0m\u001B[0;34m\u001B[0m\u001B[0m\n",
      "\u001B[0;32m~/opt/miniconda3/envs/donkey/lib/python3.7/site-packages/tensorflow/python/keras/engine/training.py\u001B[0m in \u001B[0;36m_method_wrapper\u001B[0;34m(self, *args, **kwargs)\u001B[0m\n\u001B[1;32m     86\u001B[0m       raise ValueError('{} is not supported in multi-worker mode.'.format(\n\u001B[1;32m     87\u001B[0m           method.__name__))\n\u001B[0;32m---> 88\u001B[0;31m     \u001B[0;32mreturn\u001B[0m \u001B[0mmethod\u001B[0m\u001B[0;34m(\u001B[0m\u001B[0mself\u001B[0m\u001B[0;34m,\u001B[0m \u001B[0;34m*\u001B[0m\u001B[0margs\u001B[0m\u001B[0;34m,\u001B[0m \u001B[0;34m**\u001B[0m\u001B[0mkwargs\u001B[0m\u001B[0;34m)\u001B[0m\u001B[0;34m\u001B[0m\u001B[0;34m\u001B[0m\u001B[0m\n\u001B[0m\u001B[1;32m     89\u001B[0m \u001B[0;34m\u001B[0m\u001B[0m\n\u001B[1;32m     90\u001B[0m   return tf_decorator.make_decorator(\n",
      "\u001B[0;32m~/opt/miniconda3/envs/donkey/lib/python3.7/site-packages/tensorflow/python/keras/engine/training.py\u001B[0m in \u001B[0;36mpredict\u001B[0;34m(self, x, batch_size, verbose, steps, callbacks, max_queue_size, workers, use_multiprocessing)\u001B[0m\n\u001B[1;32m   1266\u001B[0m           \u001B[0;32mfor\u001B[0m \u001B[0mstep\u001B[0m \u001B[0;32min\u001B[0m \u001B[0mdata_handler\u001B[0m\u001B[0;34m.\u001B[0m\u001B[0msteps\u001B[0m\u001B[0;34m(\u001B[0m\u001B[0;34m)\u001B[0m\u001B[0;34m:\u001B[0m\u001B[0;34m\u001B[0m\u001B[0;34m\u001B[0m\u001B[0m\n\u001B[1;32m   1267\u001B[0m             \u001B[0mcallbacks\u001B[0m\u001B[0;34m.\u001B[0m\u001B[0mon_predict_batch_begin\u001B[0m\u001B[0;34m(\u001B[0m\u001B[0mstep\u001B[0m\u001B[0;34m)\u001B[0m\u001B[0;34m\u001B[0m\u001B[0;34m\u001B[0m\u001B[0m\n\u001B[0;32m-> 1268\u001B[0;31m             \u001B[0mtmp_batch_outputs\u001B[0m \u001B[0;34m=\u001B[0m \u001B[0mpredict_function\u001B[0m\u001B[0;34m(\u001B[0m\u001B[0miterator\u001B[0m\u001B[0;34m)\u001B[0m\u001B[0;34m\u001B[0m\u001B[0;34m\u001B[0m\u001B[0m\n\u001B[0m\u001B[1;32m   1269\u001B[0m             \u001B[0;31m# Catch OutOfRangeError for Datasets of unknown size.\u001B[0m\u001B[0;34m\u001B[0m\u001B[0;34m\u001B[0m\u001B[0;34m\u001B[0m\u001B[0m\n\u001B[1;32m   1270\u001B[0m             \u001B[0;31m# This blocks until the batch has finished executing.\u001B[0m\u001B[0;34m\u001B[0m\u001B[0;34m\u001B[0m\u001B[0;34m\u001B[0m\u001B[0m\n",
      "\u001B[0;32m~/opt/miniconda3/envs/donkey/lib/python3.7/site-packages/tensorflow/python/eager/def_function.py\u001B[0m in \u001B[0;36m__call__\u001B[0;34m(self, *args, **kwds)\u001B[0m\n\u001B[1;32m    578\u001B[0m         \u001B[0mxla_context\u001B[0m\u001B[0;34m.\u001B[0m\u001B[0mExit\u001B[0m\u001B[0;34m(\u001B[0m\u001B[0;34m)\u001B[0m\u001B[0;34m\u001B[0m\u001B[0;34m\u001B[0m\u001B[0m\n\u001B[1;32m    579\u001B[0m     \u001B[0;32melse\u001B[0m\u001B[0;34m:\u001B[0m\u001B[0;34m\u001B[0m\u001B[0;34m\u001B[0m\u001B[0m\n\u001B[0;32m--> 580\u001B[0;31m       \u001B[0mresult\u001B[0m \u001B[0;34m=\u001B[0m \u001B[0mself\u001B[0m\u001B[0;34m.\u001B[0m\u001B[0m_call\u001B[0m\u001B[0;34m(\u001B[0m\u001B[0;34m*\u001B[0m\u001B[0margs\u001B[0m\u001B[0;34m,\u001B[0m \u001B[0;34m**\u001B[0m\u001B[0mkwds\u001B[0m\u001B[0;34m)\u001B[0m\u001B[0;34m\u001B[0m\u001B[0;34m\u001B[0m\u001B[0m\n\u001B[0m\u001B[1;32m    581\u001B[0m \u001B[0;34m\u001B[0m\u001B[0m\n\u001B[1;32m    582\u001B[0m     \u001B[0;32mif\u001B[0m \u001B[0mtracing_count\u001B[0m \u001B[0;34m==\u001B[0m \u001B[0mself\u001B[0m\u001B[0;34m.\u001B[0m\u001B[0m_get_tracing_count\u001B[0m\u001B[0;34m(\u001B[0m\u001B[0;34m)\u001B[0m\u001B[0;34m:\u001B[0m\u001B[0;34m\u001B[0m\u001B[0;34m\u001B[0m\u001B[0m\n",
      "\u001B[0;32m~/opt/miniconda3/envs/donkey/lib/python3.7/site-packages/tensorflow/python/eager/def_function.py\u001B[0m in \u001B[0;36m_call\u001B[0;34m(self, *args, **kwds)\u001B[0m\n\u001B[1;32m    616\u001B[0m       \u001B[0;31m# In this case we have not created variables on the first call. So we can\u001B[0m\u001B[0;34m\u001B[0m\u001B[0;34m\u001B[0m\u001B[0;34m\u001B[0m\u001B[0m\n\u001B[1;32m    617\u001B[0m       \u001B[0;31m# run the first trace but we should fail if variables are created.\u001B[0m\u001B[0;34m\u001B[0m\u001B[0;34m\u001B[0m\u001B[0;34m\u001B[0m\u001B[0m\n\u001B[0;32m--> 618\u001B[0;31m       \u001B[0mresults\u001B[0m \u001B[0;34m=\u001B[0m \u001B[0mself\u001B[0m\u001B[0;34m.\u001B[0m\u001B[0m_stateful_fn\u001B[0m\u001B[0;34m(\u001B[0m\u001B[0;34m*\u001B[0m\u001B[0margs\u001B[0m\u001B[0;34m,\u001B[0m \u001B[0;34m**\u001B[0m\u001B[0mkwds\u001B[0m\u001B[0;34m)\u001B[0m\u001B[0;34m\u001B[0m\u001B[0;34m\u001B[0m\u001B[0m\n\u001B[0m\u001B[1;32m    619\u001B[0m       \u001B[0;32mif\u001B[0m \u001B[0mself\u001B[0m\u001B[0;34m.\u001B[0m\u001B[0m_created_variables\u001B[0m\u001B[0;34m:\u001B[0m\u001B[0;34m\u001B[0m\u001B[0;34m\u001B[0m\u001B[0m\n\u001B[1;32m    620\u001B[0m         raise ValueError(\"Creating variables on a non-first call to a function\"\n",
      "\u001B[0;32m~/opt/miniconda3/envs/donkey/lib/python3.7/site-packages/tensorflow/python/eager/function.py\u001B[0m in \u001B[0;36m__call__\u001B[0;34m(self, *args, **kwargs)\u001B[0m\n\u001B[1;32m   2418\u001B[0m     \u001B[0;32mwith\u001B[0m \u001B[0mself\u001B[0m\u001B[0;34m.\u001B[0m\u001B[0m_lock\u001B[0m\u001B[0;34m:\u001B[0m\u001B[0;34m\u001B[0m\u001B[0;34m\u001B[0m\u001B[0m\n\u001B[1;32m   2419\u001B[0m       \u001B[0mgraph_function\u001B[0m\u001B[0;34m,\u001B[0m \u001B[0margs\u001B[0m\u001B[0;34m,\u001B[0m \u001B[0mkwargs\u001B[0m \u001B[0;34m=\u001B[0m \u001B[0mself\u001B[0m\u001B[0;34m.\u001B[0m\u001B[0m_maybe_define_function\u001B[0m\u001B[0;34m(\u001B[0m\u001B[0margs\u001B[0m\u001B[0;34m,\u001B[0m \u001B[0mkwargs\u001B[0m\u001B[0;34m)\u001B[0m\u001B[0;34m\u001B[0m\u001B[0;34m\u001B[0m\u001B[0m\n\u001B[0;32m-> 2420\u001B[0;31m     \u001B[0;32mreturn\u001B[0m \u001B[0mgraph_function\u001B[0m\u001B[0;34m.\u001B[0m\u001B[0m_filtered_call\u001B[0m\u001B[0;34m(\u001B[0m\u001B[0margs\u001B[0m\u001B[0;34m,\u001B[0m \u001B[0mkwargs\u001B[0m\u001B[0;34m)\u001B[0m  \u001B[0;31m# pylint: disable=protected-access\u001B[0m\u001B[0;34m\u001B[0m\u001B[0;34m\u001B[0m\u001B[0m\n\u001B[0m\u001B[1;32m   2421\u001B[0m \u001B[0;34m\u001B[0m\u001B[0m\n\u001B[1;32m   2422\u001B[0m   \u001B[0;34m@\u001B[0m\u001B[0mproperty\u001B[0m\u001B[0;34m\u001B[0m\u001B[0;34m\u001B[0m\u001B[0m\n",
      "\u001B[0;32m~/opt/miniconda3/envs/donkey/lib/python3.7/site-packages/tensorflow/python/eager/function.py\u001B[0m in \u001B[0;36m_filtered_call\u001B[0;34m(self, args, kwargs)\u001B[0m\n\u001B[1;32m   1663\u001B[0m          if isinstance(t, (ops.Tensor,\n\u001B[1;32m   1664\u001B[0m                            resource_variable_ops.BaseResourceVariable))),\n\u001B[0;32m-> 1665\u001B[0;31m         self.captured_inputs)\n\u001B[0m\u001B[1;32m   1666\u001B[0m \u001B[0;34m\u001B[0m\u001B[0m\n\u001B[1;32m   1667\u001B[0m   \u001B[0;32mdef\u001B[0m \u001B[0m_call_flat\u001B[0m\u001B[0;34m(\u001B[0m\u001B[0mself\u001B[0m\u001B[0;34m,\u001B[0m \u001B[0margs\u001B[0m\u001B[0;34m,\u001B[0m \u001B[0mcaptured_inputs\u001B[0m\u001B[0;34m,\u001B[0m \u001B[0mcancellation_manager\u001B[0m\u001B[0;34m=\u001B[0m\u001B[0;32mNone\u001B[0m\u001B[0;34m)\u001B[0m\u001B[0;34m:\u001B[0m\u001B[0;34m\u001B[0m\u001B[0;34m\u001B[0m\u001B[0m\n",
      "\u001B[0;32m~/opt/miniconda3/envs/donkey/lib/python3.7/site-packages/tensorflow/python/eager/function.py\u001B[0m in \u001B[0;36m_call_flat\u001B[0;34m(self, args, captured_inputs, cancellation_manager)\u001B[0m\n\u001B[1;32m   1744\u001B[0m       \u001B[0;31m# No tape is watching; skip to running the function.\u001B[0m\u001B[0;34m\u001B[0m\u001B[0;34m\u001B[0m\u001B[0;34m\u001B[0m\u001B[0m\n\u001B[1;32m   1745\u001B[0m       return self._build_call_outputs(self._inference_function.call(\n\u001B[0;32m-> 1746\u001B[0;31m           ctx, args, cancellation_manager=cancellation_manager))\n\u001B[0m\u001B[1;32m   1747\u001B[0m     forward_backward = self._select_forward_and_backward_functions(\n\u001B[1;32m   1748\u001B[0m         \u001B[0margs\u001B[0m\u001B[0;34m,\u001B[0m\u001B[0;34m\u001B[0m\u001B[0;34m\u001B[0m\u001B[0m\n",
      "\u001B[0;32m~/opt/miniconda3/envs/donkey/lib/python3.7/site-packages/tensorflow/python/eager/function.py\u001B[0m in \u001B[0;36mcall\u001B[0;34m(self, ctx, args, cancellation_manager)\u001B[0m\n\u001B[1;32m    596\u001B[0m               \u001B[0minputs\u001B[0m\u001B[0;34m=\u001B[0m\u001B[0margs\u001B[0m\u001B[0;34m,\u001B[0m\u001B[0;34m\u001B[0m\u001B[0;34m\u001B[0m\u001B[0m\n\u001B[1;32m    597\u001B[0m               \u001B[0mattrs\u001B[0m\u001B[0;34m=\u001B[0m\u001B[0mattrs\u001B[0m\u001B[0;34m,\u001B[0m\u001B[0;34m\u001B[0m\u001B[0;34m\u001B[0m\u001B[0m\n\u001B[0;32m--> 598\u001B[0;31m               ctx=ctx)\n\u001B[0m\u001B[1;32m    599\u001B[0m         \u001B[0;32melse\u001B[0m\u001B[0;34m:\u001B[0m\u001B[0;34m\u001B[0m\u001B[0;34m\u001B[0m\u001B[0m\n\u001B[1;32m    600\u001B[0m           outputs = execute.execute_with_cancellation(\n",
      "\u001B[0;32m~/opt/miniconda3/envs/donkey/lib/python3.7/site-packages/tensorflow/python/eager/execute.py\u001B[0m in \u001B[0;36mquick_execute\u001B[0;34m(op_name, num_outputs, inputs, attrs, ctx, name)\u001B[0m\n\u001B[1;32m     58\u001B[0m     \u001B[0mctx\u001B[0m\u001B[0;34m.\u001B[0m\u001B[0mensure_initialized\u001B[0m\u001B[0;34m(\u001B[0m\u001B[0;34m)\u001B[0m\u001B[0;34m\u001B[0m\u001B[0;34m\u001B[0m\u001B[0m\n\u001B[1;32m     59\u001B[0m     tensors = pywrap_tfe.TFE_Py_Execute(ctx._handle, device_name, op_name,\n\u001B[0;32m---> 60\u001B[0;31m                                         inputs, attrs, num_outputs)\n\u001B[0m\u001B[1;32m     61\u001B[0m   \u001B[0;32mexcept\u001B[0m \u001B[0mcore\u001B[0m\u001B[0;34m.\u001B[0m\u001B[0m_NotOkStatusException\u001B[0m \u001B[0;32mas\u001B[0m \u001B[0me\u001B[0m\u001B[0;34m:\u001B[0m\u001B[0;34m\u001B[0m\u001B[0;34m\u001B[0m\u001B[0m\n\u001B[1;32m     62\u001B[0m     \u001B[0;32mif\u001B[0m \u001B[0mname\u001B[0m \u001B[0;32mis\u001B[0m \u001B[0;32mnot\u001B[0m \u001B[0;32mNone\u001B[0m\u001B[0;34m:\u001B[0m\u001B[0;34m\u001B[0m\u001B[0;34m\u001B[0m\u001B[0m\n",
      "\u001B[0;31mKeyboardInterrupt\u001B[0m: "
     ]
    },
    {
     "data": {
      "text/plain": "<Figure size 432x288 with 1 Axes>",
      "image/png": "[encoded data removed]"
     },
     "metadata": {
      "needs_background": "light"
     },
     "output_type": "display_data"
    }
   ],
   "source": [
    "from collections import defaultdict\n",
    "\n",
    "losses = defaultdict(dict)\n",
    "\n",
    "for tub_name, records in tub_records_90_speed.items():\n",
    "    model = train_tub_1_frame_model(tub_name, records, cfg)\n",
    "\n",
    "    test_losses_for_80_speed, test_losses_for_85_speed, test_losses_for_90_speed = get_test_metrics(\n",
    "        model, tub_name, tub_records_80_speed, tub_records_85_speed, tub_records_90_speed\n",
    "    )\n",
    "\n",
    "    losses.update(test_losses_for_80_speed)\n",
    "    losses.update(test_losses_for_85_speed)\n",
    "    losses.update(test_losses_for_90_speed)"
   ],
   "metadata": {
    "collapsed": false,
    "pycharm": {
     "name": "#%%\n"
    }
   }
  },
  {
   "cell_type": "code",
   "execution_count": null,
   "outputs": [],
   "source": [],
   "metadata": {
    "collapsed": false,
    "pycharm": {
     "name": "#%%\n"
    }
   }
  },
  {
   "cell_type": "code",
   "execution_count": null,
   "outputs": [],
   "source": [
    "Creating augmentation CROP"
   ],
   "metadata": {
    "collapsed": false,
    "pycharm": {
     "name": "#%%\n"
    }
   }
  }
 ],
 "metadata": {
  "kernelspec": {
   "display_name": "Python 3",
   "language": "python",
   "name": "python3"
  },
  "language_info": {
   "codemirror_mode": {
    "name": "ipython",
    "version": 2
   },
   "file_extension": ".py",
   "mimetype": "text/x-python",
   "name": "python",
   "nbconvert_exporter": "python",
   "pygments_lexer": "ipython2",
   "version": "2.7.6"
  }
 },
 "nbformat": 4,
 "nbformat_minor": 0
}