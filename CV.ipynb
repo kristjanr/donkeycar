{
 "cells": [
  {
   "cell_type": "code",
   "execution_count": 1,
   "outputs": [],
   "source": [
    "import sys\n",
    "\n",
    "for a in ['', '/Users/kristjan.roosild/opt/miniconda3/envs/donkey/lib/python37.zip',\n",
    "          '/Users/kristjan.roosild/opt/miniconda3/envs/donkey/lib/python3.7',\n",
    "          '/Users/kristjan.roosild/opt/miniconda3/envs/donkey/lib/python3.7/lib-dynload',\n",
    "          '/Users/kristjan.roosild/.local/lib/python3.7/site-packages',\n",
    "          '/Users/kristjan.roosild/opt/miniconda3/envs/donkey/lib/python3.7/site-packages',\n",
    "          '/Users/kristjan.roosild/projects/donkeycar',\n",
    "          '/Users/kristjan.roosild/opt/miniconda3/envs/donkey/lib/python3.7/site-packages/locket-0.2.1-py3.7.egg']:\n",
    "    sys.path.append(a)"
   ],
   "metadata": {
    "collapsed": false,
    "pycharm": {
     "name": "#%%\n"
    }
   }
  },
  {
   "cell_type": "code",
   "execution_count": 2,
   "outputs": [
    {
     "name": "stdout",
     "output_type": "stream",
     "text": [
      "________             ______                   _________              \n",
      "___  __ \\_______________  /___________  __    __  ____/_____ ________\n",
      "__  / / /  __ \\_  __ \\_  //_/  _ \\_  / / /    _  /    _  __ `/_  ___/\n",
      "_  /_/ // /_/ /  / / /  ,<  /  __/  /_/ /     / /___  / /_/ /_  /    \n",
      "/_____/ \\____//_/ /_//_/|_| \\___/_\\__, /      \\____/  \\__,_/ /_/     \n",
      "                                 /____/                              \n",
      "\n",
      "using donkey v4.3.5 ...\n"
     ]
    },
    {
     "name": "stderr",
     "output_type": "stream",
     "text": [
      "INFO:numexpr.utils:Note: NumExpr detected 12 cores but \"NUMEXPR_MAX_THREADS\" not set, so enforcing safe limit of 8.\n",
      "INFO:numexpr.utils:NumExpr defaulting to 8 threads.\n"
     ]
    }
   ],
   "source": [
    "from donkeycar.parts.keras import KerasLinear, KerasLinearOnlySteering, \\\n",
    "    KerasInterpreter, KerasLSTMOnlySteering, Keras3D_CNNOnlySteering, KerasMemoryOnlySteering\n",
    "\n",
    "import donkeycar as dk\n",
    "\n",
    "import math\n",
    "import os\n",
    "from typing import List, Dict, Union, Tuple\n",
    "\n",
    "from donkeycar.config import Config\n",
    "from donkeycar.parts.keras import KerasPilot\n",
    "from donkeycar.pipeline.database import PilotDatabase\n",
    "from donkeycar.pipeline.sequence import TubRecord, TubSequence, TfmIterator\n",
    "from donkeycar.pipeline.types import TubDataset\n",
    "from donkeycar.pipeline.augmentations import ImageAugmentation\n",
    "from donkeycar.utils import normalize_image, train_test_split\n",
    "import tensorflow as tf\n",
    "import numpy as np\n",
    "\n",
    "\n",
    "class BatchSequence(object):\n",
    "    \"\"\"\n",
    "    The idea is to have a shallow sequence with types that can hydrate\n",
    "    themselves to np.ndarray initially and later into the types required by\n",
    "    tf.data (i.e. dictionaries or np.ndarrays).\n",
    "    \"\"\"\n",
    "\n",
    "    def __init__(self,\n",
    "                 model: KerasPilot,\n",
    "                 config: Config,\n",
    "                 records: List[TubRecord],\n",
    "                 is_train: bool) -> None:\n",
    "        self.model = model\n",
    "        self.config = config\n",
    "        self.sequence = TubSequence(records)\n",
    "        self.batch_size = self.config.BATCH_SIZE\n",
    "        self.is_train = is_train\n",
    "        self.augmentation = ImageAugmentation(config, 'AUGMENTATIONS')\n",
    "        self.transformation = ImageAugmentation(config, 'TRANSFORMATIONS')\n",
    "        self.pipeline = self._create_pipeline()\n",
    "\n",
    "    def __len__(self) -> int:\n",
    "        return math.ceil(len(self.pipeline) / self.batch_size)\n",
    "\n",
    "    def image_processor(self, img_arr):\n",
    "        \"\"\" Transformes the images and augments if in training. Then\n",
    "            normalizes it. \"\"\"\n",
    "        img_arr = self.transformation.run(img_arr)\n",
    "        if self.is_train:\n",
    "            img_arr = self.augmentation.run(img_arr)\n",
    "        norm_img = normalize_image(img_arr)\n",
    "        return norm_img\n",
    "\n",
    "    def _create_pipeline(self) -> TfmIterator:\n",
    "        \"\"\" This can be overridden if more complicated pipelines are\n",
    "            required \"\"\"\n",
    "\n",
    "        # 1. Initialise TubRecord -> x, y transformations\n",
    "        def get_x(record: TubRecord) -> Dict[str, Union[float, np.ndarray]]:\n",
    "            \"\"\" Extracting x from record for training\"\"\"\n",
    "            out_tuple = self.model.x_transform_and_process(\n",
    "                record, self.image_processor)\n",
    "            # convert tuple to dictionary which is understood by tf.data\n",
    "            out_dict = self.model.x_translate(out_tuple)\n",
    "            return out_dict\n",
    "\n",
    "        def get_y(record: TubRecord) -> Dict[str, Union[float, np.ndarray]]:\n",
    "            \"\"\" Extracting y from record for training \"\"\"\n",
    "            y0 = self.model.y_transform(record)\n",
    "            y1 = self.model.y_translate(y0)\n",
    "            return y1\n",
    "\n",
    "        # 2. Build pipeline using the transformations\n",
    "        pipeline = self.sequence.build_pipeline(x_transform=get_x,\n",
    "                                                y_transform=get_y)\n",
    "        return pipeline\n",
    "\n",
    "    def create_tf_data(self) -> tf.data.Dataset:\n",
    "        \"\"\" Assembles the tf data pipeline \"\"\"\n",
    "        dataset = tf.data.Dataset.from_generator(\n",
    "            generator=lambda: self.pipeline,\n",
    "            output_types=self.model.output_types(),\n",
    "            output_shapes=self.model.output_shapes())\n",
    "        return dataset.repeat().batch(self.batch_size)\n",
    "\n",
    "\n",
    "def get_model_train_details(database: PilotDatabase, model: str = None) -> Tuple[str, int]:\n",
    "    if not model:\n",
    "        model_name, model_num = database.generate_model_name()\n",
    "    else:\n",
    "        model_name, model_num = os.path.abspath(model), 0\n",
    "    return model_name, model_num\n"
   ],
   "metadata": {
    "collapsed": false,
    "pycharm": {
     "name": "#%%\n"
    }
   }
  },
  {
   "cell_type": "code",
   "execution_count": 4,
   "outputs": [
    {
     "name": "stderr",
     "output_type": "stream",
     "text": [
      "INFO:donkeycar.pipeline.types:Loading tubs from paths ['/Users/kristjan.roosild/OneDrive/kool/maka/data/1-1-CC-80']\n"
     ]
    },
    {
     "name": "stdout",
     "output_type": "stream",
     "text": [
      "loading config file: /Users/kristjan.roosild/mycar/config.py\n",
      "loading personal config over-rides from myconfig.py\n",
      "Using catalog /Users/kristjan.roosild/OneDrive/kool/maka/data/1-1-CC-80/catalog_4.catalog\n"
     ]
    },
    {
     "name": "stderr",
     "output_type": "stream",
     "text": [
      "INFO:donkeycar.pipeline.types:Loading tubs from paths ['/Users/kristjan.roosild/OneDrive/kool/maka/data/2-1-CW-80']\n"
     ]
    },
    {
     "name": "stdout",
     "output_type": "stream",
     "text": [
      "Using catalog /Users/kristjan.roosild/OneDrive/kool/maka/data/2-1-CW-80/catalog_4.catalog\n"
     ]
    },
    {
     "name": "stderr",
     "output_type": "stream",
     "text": [
      "INFO:donkeycar.pipeline.types:Loading tubs from paths ['/Users/kristjan.roosild/OneDrive/kool/maka/data/4-1-CC-80']\n"
     ]
    },
    {
     "name": "stdout",
     "output_type": "stream",
     "text": [
      "Using catalog /Users/kristjan.roosild/OneDrive/kool/maka/data/4-1-CC-80/catalog_5.catalog\n"
     ]
    },
    {
     "name": "stderr",
     "output_type": "stream",
     "text": [
      "INFO:donkeycar.pipeline.types:Loading tubs from paths ['/Users/kristjan.roosild/OneDrive/kool/maka/data/1-3-CC-85']\n"
     ]
    },
    {
     "name": "stdout",
     "output_type": "stream",
     "text": [
      "Using catalog /Users/kristjan.roosild/OneDrive/kool/maka/data/1-3-CC-85/catalog_4.catalog\n"
     ]
    },
    {
     "name": "stderr",
     "output_type": "stream",
     "text": [
      "INFO:donkeycar.pipeline.types:Loading tubs from paths ['/Users/kristjan.roosild/OneDrive/kool/maka/data/2-3-CW-85']\n"
     ]
    },
    {
     "name": "stdout",
     "output_type": "stream",
     "text": [
      "Using catalog /Users/kristjan.roosild/OneDrive/kool/maka/data/2-3-CW-85/catalog_6.catalog\n"
     ]
    },
    {
     "name": "stderr",
     "output_type": "stream",
     "text": [
      "INFO:donkeycar.pipeline.types:Loading tubs from paths ['/Users/kristjan.roosild/OneDrive/kool/maka/data/3-3-CW-85']\n"
     ]
    },
    {
     "name": "stdout",
     "output_type": "stream",
     "text": [
      "Using catalog /Users/kristjan.roosild/OneDrive/kool/maka/data/3-3-CW-85/catalog_4.catalog\n"
     ]
    },
    {
     "name": "stderr",
     "output_type": "stream",
     "text": [
      "INFO:donkeycar.pipeline.types:Loading tubs from paths ['/Users/kristjan.roosild/OneDrive/kool/maka/data/4-3-CC-85']\n"
     ]
    },
    {
     "name": "stdout",
     "output_type": "stream",
     "text": [
      "Using catalog /Users/kristjan.roosild/OneDrive/kool/maka/data/4-3-CC-85/catalog_4.catalog\n"
     ]
    },
    {
     "name": "stderr",
     "output_type": "stream",
     "text": [
      "INFO:donkeycar.pipeline.types:Loading tubs from paths ['/Users/kristjan.roosild/OneDrive/kool/maka/data/1-2-CC-90']\n"
     ]
    },
    {
     "name": "stdout",
     "output_type": "stream",
     "text": [
      "Using catalog /Users/kristjan.roosild/OneDrive/kool/maka/data/1-2-CC-90/catalog_4.catalog\n"
     ]
    },
    {
     "name": "stderr",
     "output_type": "stream",
     "text": [
      "INFO:donkeycar.pipeline.types:Loading tubs from paths ['/Users/kristjan.roosild/OneDrive/kool/maka/data/2-2-CW-90']\n"
     ]
    },
    {
     "name": "stdout",
     "output_type": "stream",
     "text": [
      "Using catalog /Users/kristjan.roosild/OneDrive/kool/maka/data/2-2-CW-90/catalog_2.catalog\n"
     ]
    },
    {
     "name": "stderr",
     "output_type": "stream",
     "text": [
      "INFO:donkeycar.pipeline.types:Loading tubs from paths ['/Users/kristjan.roosild/OneDrive/kool/maka/data/3-2-CW-90']\n"
     ]
    },
    {
     "name": "stdout",
     "output_type": "stream",
     "text": [
      "Using catalog /Users/kristjan.roosild/OneDrive/kool/maka/data/3-2-CW-90/catalog_6.catalog\n"
     ]
    },
    {
     "name": "stderr",
     "output_type": "stream",
     "text": [
      "INFO:donkeycar.pipeline.types:Loading tubs from paths ['/Users/kristjan.roosild/OneDrive/kool/maka/data/4-2-CC-90']\n"
     ]
    },
    {
     "name": "stdout",
     "output_type": "stream",
     "text": [
      "Using catalog /Users/kristjan.roosild/OneDrive/kool/maka/data/4-2-CC-90/catalog_7.catalog\n"
     ]
    }
   ],
   "source": [
    "MYCAR_PATH = '/Users/kristjan.roosild/mycar/'\n",
    "DATA_PATH = '/Users/kristjan.roosild/OneDrive/kool/maka/data/'\n",
    "MODELS_LOCATION = '/Users/kristjan.roosild/OneDrive/kool/maka/models/'\n",
    "\n",
    "cfg = dk.load_config(config_path=MYCAR_PATH + 'config.py')\n",
    "\n",
    "cfg.TRANSFORMATIONS = ['CROP']\n",
    "cfg.ROI_CROP_TOP = 60\n",
    "\n",
    "input_shape = (cfg.IMAGE_H, cfg.IMAGE_W, cfg.IMAGE_DEPTH)\n",
    "\n",
    "tub_names_80_speed = [\n",
    "    '1-1-CC-80',\n",
    "    '2-1-CW-80',\n",
    "    '4-1-CC-80',\n",
    "]\n",
    "\n",
    "tub_names_85_speed = [\n",
    "    '1-3-CC-85',\n",
    "    '2-3-CW-85',\n",
    "    '3-3-CW-85',\n",
    "    '4-3-CC-85'\n",
    "]\n",
    "\n",
    "tub_names_90_speed = [\n",
    "    '1-2-CC-90',\n",
    "    '2-2-CW-90',\n",
    "    '3-2-CW-90',\n",
    "    '4-2-CC-90',\n",
    "]\n",
    "\n",
    "\n",
    "def load_records(tub_name):\n",
    "    return TubDataset(\n",
    "        config=cfg,\n",
    "        tub_paths=[os.path.expanduser(DATA_PATH + tub_name)],\n",
    "        seq_size=0).get_records()\n",
    "\n",
    "\n",
    "tub_records_80_speed = {tn: load_records(tn) for tn in tub_names_80_speed}\n",
    "tub_records_85_speed = {tn: load_records(tn) for tn in tub_names_85_speed}\n",
    "tub_records_90_speed = {tn: load_records(tn) for tn in tub_names_90_speed}\n"
   ],
   "metadata": {
    "collapsed": false,
    "pycharm": {
     "name": "#%%\n"
    }
   }
  },
  {
   "cell_type": "code",
   "execution_count": 5,
   "outputs": [],
   "source": [
    "\n",
    "def prep_fold_data(kl, cfg, data):\n",
    "    training_records, validation_records = train_test_split(data, shuffle=False,\n",
    "                                                            test_size=(1. - cfg.TRAIN_TEST_SPLIT))\n",
    "    print(f'Records # Training {len(training_records)}')\n",
    "    print(f'Records # Validation {len(validation_records)}')\n",
    "    # We need augmentation in validation when using crop / trapeze\n",
    "    training_pipe = BatchSequence(kl, cfg, training_records, is_train=True)\n",
    "    validation_pipe = BatchSequence(kl, cfg, validation_records, is_train=False)\n",
    "    tune = tf.data.experimental.AUTOTUNE\n",
    "    dataset_train = training_pipe.create_tf_data().prefetch(tune)\n",
    "    dataset_validate = validation_pipe.create_tf_data().prefetch(tune)\n",
    "    train_size = len(training_pipe)\n",
    "    val_size = len(validation_pipe)\n",
    "    assert val_size > 0, \"Not enough validation data, decrease the batch size or add more data.\"\n",
    "    return dataset_train, dataset_validate, train_size, val_size\n",
    "\n",
    "\n",
    "\n",
    "\n",
    "def init_wandb(tub, kl):\n",
    "    import wandb\n",
    "    config = {\n",
    "        \"tub\": tub,\n",
    "        \"model\": str(kl)\n",
    "    }\n",
    "    wandb.init(project=\"master-thesis\", entity=\"kristjan\", config=config)\n",
    "\n",
    "\n",
    "def train(tub, kl, model_path, cfg, data):\n",
    "    dataset_train, dataset_validate, train_size, val_size = prep_fold_data(kl, cfg, data)\n",
    "    # init_wandb(tub, kl)\n",
    "    history = kl.train(model_path=model_path,\n",
    "                       train_data=dataset_train,\n",
    "                       train_steps=train_size,\n",
    "                       batch_size=cfg.BATCH_SIZE,\n",
    "                       validation_data=dataset_validate,\n",
    "                       validation_steps=val_size,\n",
    "                       epochs=cfg.MAX_EPOCHS,\n",
    "                       verbose=cfg.VERBOSE_TRAIN,\n",
    "                       min_delta=cfg.MIN_DELTA,\n",
    "                       patience=cfg.EARLY_STOP_PATIENCE,\n",
    "                       show_plot=cfg.SHOW_PLOT,\n",
    "                       add_wandb_callback=False)\n",
    "\n",
    "    return history\n",
    "\n",
    "\n",
    "def mse(v1, v2):\n",
    "    return np.mean((np.array(v1) - np.array(v2)) ** 2)"
   ],
   "metadata": {
    "collapsed": false,
    "pycharm": {
     "name": "#%%\n"
    }
   }
  },
  {
   "cell_type": "code",
   "execution_count": 5,
   "outputs": [],
   "source": [
    "def get_loss(kl, test_records):\n",
    "    pipe = BatchSequence(kl, cfg, test_records, is_train=False)\n",
    "    steps = len(pipe)\n",
    "    tune = tf.data.experimental.AUTOTUNE\n",
    "    dataset = pipe.create_tf_data().prefetch(tune)\n",
    "    test_preds = kl.interpreter.model.predict(\n",
    "        dataset,\n",
    "        workers=2,\n",
    "        use_multiprocessing=True,\n",
    "        steps=steps,\n",
    "        verbose=1)[0]\n",
    "    ground_truth = [r.underlying['user/angle'] for r in test_records]\n",
    "    return mse(ground_truth, test_preds)\n"
   ],
   "metadata": {
    "collapsed": false,
    "pycharm": {
     "name": "#%%\n"
    }
   }
  },
  {
   "cell_type": "code",
   "execution_count": 6,
   "outputs": [],
   "source": [
    "\n",
    "def train_tub_1_frame_model(tub_name: str, train_records: list, cfg: Config):\n",
    "    input_shape = (cfg.IMAGE_H, cfg.IMAGE_W, cfg.IMAGE_DEPTH)\n",
    "    kl = KerasLinearOnlySteering(interpreter=KerasInterpreter(), input_shape=input_shape)\n",
    "    model_name = f'{str(kl)}-tub-{tub_name}'\n",
    "    model_path = f'{MODELS_LOCATION}{model_name}.h5'\n",
    "    train(tub_name, kl, model_path, cfg, train_records)\n",
    "    return kl\n",
    "\n",
    "def get_test_metrics(model, tub_name, tub_records_80_speed, tub_records_85_speed, tub_records_90_speed):\n",
    "\n",
    "    test_losses_for_80_speed = {}\n",
    "    test_losses_for_85_speed = {}\n",
    "    test_losses_for_90_speed = {}\n",
    "\n",
    "    print(f'Getting 80-speed mse-s for model trained with {tub_name}')\n",
    "    for test_tub_name, test_records in tub_records_80_speed.items():\n",
    "        mse_80_speed = get_loss(model, test_records)\n",
    "        test_losses_for_80_speed[test_tub_name] = mse_80_speed\n",
    "        wandb.run.summary[\"80_speed_test_loss\"] = mse_80_speed\n",
    "        print(f'80 speed mse for test tub {test_tub_name} is {mse_80_speed}')\n",
    "\n",
    "    print(f'Getting 85-speed mse-s for model trained with {tub_name}')\n",
    "    for test_tub_name, test_records in tub_records_85_speed.items():\n",
    "        mse_85_speed = get_loss(model, test_records)\n",
    "        test_losses_for_85_speed[test_tub_name] = mse_85_speed\n",
    "        wandb.run.summary[\"85_speed_test_loss\"] = mse_85_speed\n",
    "        print(f'85 speed mse for test tub {test_tub_name} is {mse_85_speed}')\n",
    "\n",
    "    print(f'Getting 90-speed mse-s for model trained with {tub_name}')\n",
    "    for test_tub_name, test_records in tub_records_90_speed.items():\n",
    "        if test_tub_name == tub_name:\n",
    "            continue\n",
    "        mse_90_speed = get_loss(model, test_records)\n",
    "        test_losses_for_90_speed[test_tub_name] = mse_90_speed\n",
    "        wandb.run.summary[\"90_speed_test_loss\"] = mse_90_speed\n",
    "        print(f'90 speed mse for test tub {test_tub_name} is {mse_90_speed}')\n",
    "\n",
    "    return test_losses_for_80_speed, test_losses_for_85_speed, test_losses_for_90_speed"
   ],
   "metadata": {
    "collapsed": false,
    "pycharm": {
     "name": "#%%\n"
    }
   }
  },
  {
   "cell_type": "code",
   "execution_count": 7,
   "outputs": [
    {
     "name": "stderr",
     "output_type": "stream",
     "text": [
      "2022-02-13 22:02:31.330873: I tensorflow/core/platform/cpu_feature_guard.cc:143] Your CPU supports instructions that this TensorFlow binary was not compiled to use: AVX2 FMA\n",
      "2022-02-13 22:02:31.352367: I tensorflow/compiler/xla/service/service.cc:168] XLA service 0x7ff5b4c530e0 initialized for platform Host (this does not guarantee that XLA will be used). Devices:\n",
      "2022-02-13 22:02:31.352380: I tensorflow/compiler/xla/service/service.cc:176]   StreamExecutor device (0): Host, Default Version\n",
      "INFO:donkeycar.parts.keras:Created KerasLinearOnlySteering with interpreter: KerasInterpreter\n"
     ]
    },
    {
     "name": "stdout",
     "output_type": "stream",
     "text": [
      "Records # Training 80\n",
      "Records # Validation 20\n"
     ]
    },
    {
     "name": "stderr",
     "output_type": "stream",
     "text": [
      "\u001B[34m\u001B[1mwandb\u001B[0m: Currently logged in as: \u001B[33mkristjan\u001B[0m (use `wandb login --relogin` to force relogin)\n"
     ]
    },
    {
     "data": {
      "text/plain": "<IPython.core.display.HTML object>",
      "text/html": "\n                    Syncing run <strong><a href=\"https://wandb.ai/kristjan/master-thesis/runs/2v71244s\" target=\"_blank\">balmy-haze-31</a></strong> to <a href=\"https://wandb.ai/kristjan/master-thesis\" target=\"_blank\">Weights & Biases</a> (<a href=\"https://docs.wandb.com/integrations/jupyter.html\" target=\"_blank\">docs</a>).<br/>\n\n                "
     },
     "metadata": {},
     "output_type": "display_data"
    },
    {
     "name": "stdout",
     "output_type": "stream",
     "text": [
      "Epoch 1/100\n",
      "1/1 [==============================] - ETA: 0s - loss: 0.4427 - n_outputs0_loss: 0.4427 - n_outputs1_loss: 1.0451\n",
      "Epoch 00001: val_loss improved from inf to 5.10647, saving model to /Users/kristjan.roosild/OneDrive/kool/maka/models/KerasLinearOnlySteering-tub-1-2-CC-90.h5\n",
      "1/1 [==============================] - 1s 1s/step - loss: 0.4427 - n_outputs0_loss: 0.4427 - n_outputs1_loss: 1.0451 - val_loss: 5.1065 - val_n_outputs0_loss: 5.1065 - val_n_outputs1_loss: 1.2563\n",
      "Epoch 2/100\n",
      "1/1 [==============================] - ETA: 0s - loss: 3.4710 - n_outputs0_loss: 3.4710 - n_outputs1_loss: 1.5586\n",
      "Epoch 00002: val_loss improved from 5.10647 to 1.20740, saving model to /Users/kristjan.roosild/OneDrive/kool/maka/models/KerasLinearOnlySteering-tub-1-2-CC-90.h5\n",
      "1/1 [==============================] - 1s 1s/step - loss: 3.4710 - n_outputs0_loss: 3.4710 - n_outputs1_loss: 1.5586 - val_loss: 1.2074 - val_n_outputs0_loss: 1.2074 - val_n_outputs1_loss: 0.9356\n",
      "Epoch 3/100\n",
      "1/1 [==============================] - ETA: 0s - loss: 0.4670 - n_outputs0_loss: 0.4670 - n_outputs1_loss: 1.0283\n",
      "Epoch 00003: val_loss improved from 1.20740 to 1.03766, saving model to /Users/kristjan.roosild/OneDrive/kool/maka/models/KerasLinearOnlySteering-tub-1-2-CC-90.h5\n",
      "1/1 [==============================] - 1s 995ms/step - loss: 0.4670 - n_outputs0_loss: 0.4670 - n_outputs1_loss: 1.0283 - val_loss: 1.0377 - val_n_outputs0_loss: 1.0377 - val_n_outputs1_loss: 0.8454\n",
      "Epoch 4/100\n",
      "1/1 [==============================] - ETA: 0s - loss: 0.4658 - n_outputs0_loss: 0.4658 - n_outputs1_loss: 0.9123\n",
      "Epoch 00004: val_loss improved from 1.03766 to 1.01268, saving model to /Users/kristjan.roosild/OneDrive/kool/maka/models/KerasLinearOnlySteering-tub-1-2-CC-90.h5\n",
      "1/1 [==============================] - 1s 871ms/step - loss: 0.4658 - n_outputs0_loss: 0.4658 - n_outputs1_loss: 0.9123 - val_loss: 1.0127 - val_n_outputs0_loss: 1.0127 - val_n_outputs1_loss: 0.8164\n",
      "Epoch 5/100\n",
      "1/1 [==============================] - ETA: 0s - loss: 0.7037 - n_outputs0_loss: 0.7037 - n_outputs1_loss: 0.8773\n",
      "Epoch 00005: val_loss did not improve from 1.01268\n",
      "1/1 [==============================] - 0s 248ms/step - loss: 0.7037 - n_outputs0_loss: 0.7037 - n_outputs1_loss: 0.8773 - val_loss: 1.0151 - val_n_outputs0_loss: 1.0151 - val_n_outputs1_loss: 0.8167\n",
      "Epoch 6/100\n",
      "1/1 [==============================] - ETA: 0s - loss: 0.4678 - n_outputs0_loss: 0.4678 - n_outputs1_loss: 0.8596\n",
      "Epoch 00006: val_loss did not improve from 1.01268\n",
      "1/1 [==============================] - 0s 225ms/step - loss: 0.4678 - n_outputs0_loss: 0.4678 - n_outputs1_loss: 0.8596 - val_loss: 1.0338 - val_n_outputs0_loss: 1.0338 - val_n_outputs1_loss: 0.8186\n",
      "Epoch 7/100\n",
      "1/1 [==============================] - ETA: 0s - loss: 0.5790 - n_outputs0_loss: 0.5790 - n_outputs1_loss: 0.8528\n",
      "Epoch 00007: val_loss did not improve from 1.01268\n",
      "1/1 [==============================] - 0s 216ms/step - loss: 0.5790 - n_outputs0_loss: 0.5790 - n_outputs1_loss: 0.8528 - val_loss: 1.0726 - val_n_outputs0_loss: 1.0726 - val_n_outputs1_loss: 0.8263\n",
      "Epoch 8/100\n",
      "1/1 [==============================] - ETA: 0s - loss: 0.5554 - n_outputs0_loss: 0.5554 - n_outputs1_loss: 0.8709\n",
      "Epoch 00008: val_loss did not improve from 1.01268\n",
      "1/1 [==============================] - 0s 254ms/step - loss: 0.5554 - n_outputs0_loss: 0.5554 - n_outputs1_loss: 0.8709 - val_loss: 1.1483 - val_n_outputs0_loss: 1.1483 - val_n_outputs1_loss: 0.8559\n",
      "Epoch 9/100\n",
      "1/1 [==============================] - ETA: 0s - loss: 0.4462 - n_outputs0_loss: 0.4462 - n_outputs1_loss: 0.8941\n",
      "Epoch 00009: val_loss did not improve from 1.01268\n",
      "1/1 [==============================] - 0s 231ms/step - loss: 0.4462 - n_outputs0_loss: 0.4462 - n_outputs1_loss: 0.8941 - val_loss: 1.2776 - val_n_outputs0_loss: 1.2776 - val_n_outputs1_loss: 0.9003\n",
      "Getting 80-speed mse-s for model trained with 1-2-CC-90\n",
      "35/35 [==============================] - 15s 443ms/step\n",
      "80 speed mse for test tub 1-1-CC-80 is 0.4014004092068722\n",
      "35/35 [==============================] - 17s 474ms/step\n",
      "80 speed mse for test tub 2-1-CW-80 is 0.2628140043127559\n",
      "37/37 [==============================] - 17s 464ms/step\n",
      "80 speed mse for test tub 4-1-CC-80 is 0.4235390064270628\n",
      "Getting 85-speed mse-s for model trained with 1-2-CC-90\n",
      "34/34 [==============================] - 15s 443ms/step\n",
      "85 speed mse for test tub 1-3-CC-85 is 0.4346842309845056\n",
      "48/48 [==============================] - 23s 489ms/step\n",
      "85 speed mse for test tub 2-3-CW-85 is 0.2941589207762884\n",
      "32/32 [==============================] - 16s 497ms/step\n",
      "85 speed mse for test tub 3-3-CW-85 is 0.24364422485929182\n",
      "35/35 [==============================] - 19s 543ms/step\n",
      "85 speed mse for test tub 4-3-CC-85 is 0.42756087743509147\n",
      "Getting 90-speed mse-s for model trained with 1-2-CC-90\n",
      "10/10 [==============================] - 4s 416ms/step\n",
      "90 speed mse for test tub 2-2-CW-90 is 0.3231127443650235\n",
      "41/41 [==============================] - 18s 450ms/step\n",
      "90 speed mse for test tub 3-2-CW-90 is 0.3884159820301451\n",
      "49/49 [==============================] - 25s 510ms/step\n"
     ]
    },
    {
     "name": "stderr",
     "output_type": "stream",
     "text": [
      "INFO:donkeycar.parts.keras:Created KerasLinearOnlySteering with interpreter: KerasInterpreter\n"
     ]
    },
    {
     "name": "stdout",
     "output_type": "stream",
     "text": [
      "90 speed mse for test tub 4-2-CC-90 is 0.5419871903865159\n",
      "Records # Training 80\n",
      "Records # Validation 20\n"
     ]
    },
    {
     "data": {
      "text/plain": "<IPython.core.display.HTML object>",
      "text/html": "Finishing last run (ID:2v71244s) before initializing another..."
     },
     "metadata": {},
     "output_type": "display_data"
    },
    {
     "data": {
      "text/plain": "<IPython.core.display.HTML object>",
      "text/html": "<br/>Waiting for W&B process to finish, PID 49988... <strong style=\"color:green\">(success).</strong>"
     },
     "metadata": {},
     "output_type": "display_data"
    },
    {
     "data": {
      "text/plain": "VBox(children=(Label(value=' 9.44MB of 9.44MB uploaded (0.00MB deduped)\\r'), FloatProgress(value=1.0, max=1.0)…",
      "application/vnd.jupyter.widget-view+json": {
       "version_major": 2,
       "version_minor": 0,
       "model_id": "39d7e8b994dc4205b56dd3d765a10afb"
      }
     },
     "metadata": {},
     "output_type": "display_data"
    },
    {
     "data": {
      "text/plain": "<IPython.core.display.HTML object>",
      "text/html": "<style>\n    table.wandb td:nth-child(1) { padding: 0 10px; text-align: right }\n    .wandb-row { display: flex; flex-direction: row; flex-wrap: wrap; width: 100% }\n    .wandb-col { display: flex; flex-direction: column; flex-basis: 100%; flex: 1; padding: 10px; }\n    </style>\n<div class=\"wandb-row\"><div class=\"wandb-col\">\n<h3>Run history:</h3><br/><table class=\"wandb\"><tr><td>epoch</td><td>▁▂▃▄▅▅▆▇█</td></tr><tr><td>loss</td><td>▁█▁▁▂▁▁▁▁</td></tr><tr><td>n_outputs0_loss</td><td>▁█▁▁▂▁▁▁▁</td></tr><tr><td>n_outputs1_loss</td><td>▃█▃▂▁▁▁▁▁</td></tr><tr><td>val_loss</td><td>█▁▁▁▁▁▁▁▁</td></tr><tr><td>val_n_outputs0_loss</td><td>█▁▁▁▁▁▁▁▁</td></tr><tr><td>val_n_outputs1_loss</td><td>█▃▁▁▁▁▁▂▂</td></tr></table><br/></div><div class=\"wandb-col\">\n<h3>Run summary:</h3><br/><table class=\"wandb\"><tr><td>80_speed_test_loss</td><td>0.42354</td></tr><tr><td>85_speed_test_loss</td><td>0.42756</td></tr><tr><td>90_speed_test_loss</td><td>0.54199</td></tr><tr><td>best_epoch</td><td>3</td></tr><tr><td>best_val_loss</td><td>1.01268</td></tr><tr><td>epoch</td><td>8</td></tr><tr><td>loss</td><td>0.44624</td></tr><tr><td>n_outputs0_loss</td><td>0.44624</td></tr><tr><td>n_outputs1_loss</td><td>0.89407</td></tr><tr><td>val_loss</td><td>1.27756</td></tr><tr><td>val_n_outputs0_loss</td><td>1.27756</td></tr><tr><td>val_n_outputs1_loss</td><td>0.90035</td></tr></table>\n</div></div>\nSynced 6 W&B file(s), 1 media file(s), 0 artifact file(s) and 1 other file(s)\n<br/>Synced <strong style=\"color:#cdcd00\">balmy-haze-31</strong>: <a href=\"https://wandb.ai/kristjan/master-thesis/runs/2v71244s\" target=\"_blank\">https://wandb.ai/kristjan/master-thesis/runs/2v71244s</a><br/>\nFind logs at: <code>./wandb/run-20220213_220232-2v71244s/logs</code><br/>\n"
     },
     "metadata": {},
     "output_type": "display_data"
    },
    {
     "data": {
      "text/plain": "<IPython.core.display.HTML object>",
      "text/html": "Successfully finished last run (ID:2v71244s). Initializing new run:<br/>"
     },
     "metadata": {},
     "output_type": "display_data"
    },
    {
     "data": {
      "text/plain": "<IPython.core.display.HTML object>",
      "text/html": "\n                    Syncing run <strong><a href=\"https://wandb.ai/kristjan/master-thesis/runs/3iwm4xxv\" target=\"_blank\">serene-smoke-32</a></strong> to <a href=\"https://wandb.ai/kristjan/master-thesis\" target=\"_blank\">Weights & Biases</a> (<a href=\"https://docs.wandb.com/integrations/jupyter.html\" target=\"_blank\">docs</a>).<br/>\n\n                "
     },
     "metadata": {},
     "output_type": "display_data"
    },
    {
     "name": "stdout",
     "output_type": "stream",
     "text": [
      "Epoch 1/100\n",
      "1/1 [==============================] - ETA: 0s - loss: 0.2440 - n_outputs0_loss: 0.2440 - n_outputs1_loss: 0.7861\n",
      "Epoch 00001: val_loss improved from inf to 0.05422, saving model to /Users/kristjan.roosild/OneDrive/kool/maka/models/KerasLinearOnlySteering-tub-2-2-CW-90.h5\n",
      "1/1 [==============================] - 1s 1s/step - loss: 0.2440 - n_outputs0_loss: 0.2440 - n_outputs1_loss: 0.7861 - val_loss: 0.0542 - val_n_outputs0_loss: 0.0542 - val_n_outputs1_loss: 0.7211\n",
      "Epoch 2/100\n",
      "1/1 [==============================] - ETA: 0s - loss: 0.3093 - n_outputs0_loss: 0.3093 - n_outputs1_loss: 0.6753\n",
      "Epoch 00002: val_loss did not improve from 0.05422\n",
      "1/1 [==============================] - 0s 301ms/step - loss: 0.3093 - n_outputs0_loss: 0.3093 - n_outputs1_loss: 0.6753 - val_loss: 0.8461 - val_n_outputs0_loss: 0.8461 - val_n_outputs1_loss: 0.3992\n",
      "Epoch 3/100\n",
      "1/1 [==============================] - ETA: 0s - loss: 1.2905 - n_outputs0_loss: 1.2905 - n_outputs1_loss: 0.3542\n",
      "Epoch 00003: val_loss did not improve from 0.05422\n",
      "1/1 [==============================] - 0s 207ms/step - loss: 1.2905 - n_outputs0_loss: 1.2905 - n_outputs1_loss: 0.3542 - val_loss: 0.0677 - val_n_outputs0_loss: 0.0677 - val_n_outputs1_loss: 0.6821\n",
      "Epoch 4/100\n",
      "1/1 [==============================] - ETA: 0s - loss: 0.2771 - n_outputs0_loss: 0.2771 - n_outputs1_loss: 0.6387\n",
      "Epoch 00004: val_loss improved from 0.05422 to 0.05282, saving model to /Users/kristjan.roosild/OneDrive/kool/maka/models/KerasLinearOnlySteering-tub-2-2-CW-90.h5\n",
      "1/1 [==============================] - 0s 342ms/step - loss: 0.2771 - n_outputs0_loss: 0.2771 - n_outputs1_loss: 0.6387 - val_loss: 0.0528 - val_n_outputs0_loss: 0.0528 - val_n_outputs1_loss: 0.7624\n",
      "Epoch 5/100\n",
      "1/1 [==============================] - ETA: 0s - loss: 0.3543 - n_outputs0_loss: 0.3543 - n_outputs1_loss: 0.7490\n",
      "Epoch 00005: val_loss did not improve from 0.05282\n",
      "1/1 [==============================] - 0s 234ms/step - loss: 0.3543 - n_outputs0_loss: 0.3543 - n_outputs1_loss: 0.7490 - val_loss: 0.0553 - val_n_outputs0_loss: 0.0553 - val_n_outputs1_loss: 0.7809\n",
      "Epoch 6/100\n",
      "1/1 [==============================] - ETA: 0s - loss: 0.2384 - n_outputs0_loss: 0.2384 - n_outputs1_loss: 0.7796\n",
      "Epoch 00006: val_loss did not improve from 0.05282\n",
      "1/1 [==============================] - 0s 212ms/step - loss: 0.2384 - n_outputs0_loss: 0.2384 - n_outputs1_loss: 0.7796 - val_loss: 0.0560 - val_n_outputs0_loss: 0.0560 - val_n_outputs1_loss: 0.7964\n",
      "Epoch 7/100\n",
      "1/1 [==============================] - ETA: 0s - loss: 0.3977 - n_outputs0_loss: 0.3977 - n_outputs1_loss: 0.7845\n",
      "Epoch 00007: val_loss did not improve from 0.05282\n",
      "1/1 [==============================] - 0s 219ms/step - loss: 0.3977 - n_outputs0_loss: 0.3977 - n_outputs1_loss: 0.7845 - val_loss: 0.0563 - val_n_outputs0_loss: 0.0563 - val_n_outputs1_loss: 0.7986\n",
      "Epoch 8/100\n",
      "1/1 [==============================] - ETA: 0s - loss: 0.3359 - n_outputs0_loss: 0.3359 - n_outputs1_loss: 0.7908\n",
      "Epoch 00008: val_loss did not improve from 0.05282\n",
      "1/1 [==============================] - 0s 221ms/step - loss: 0.3359 - n_outputs0_loss: 0.3359 - n_outputs1_loss: 0.7908 - val_loss: 0.0561 - val_n_outputs0_loss: 0.0561 - val_n_outputs1_loss: 0.7974\n",
      "Epoch 9/100\n",
      "1/1 [==============================] - ETA: 0s - loss: 0.3210 - n_outputs0_loss: 0.3210 - n_outputs1_loss: 0.7888\n",
      "Epoch 00009: val_loss did not improve from 0.05282\n",
      "1/1 [==============================] - 0s 217ms/step - loss: 0.3210 - n_outputs0_loss: 0.3210 - n_outputs1_loss: 0.7888 - val_loss: 0.0556 - val_n_outputs0_loss: 0.0556 - val_n_outputs1_loss: 0.7940\n",
      "Getting 80-speed mse-s for model trained with 2-2-CW-90\n",
      "35/35 [==============================] - 5s 152ms/step\n",
      "80 speed mse for test tub 1-1-CC-80 is 0.3363247556822522\n",
      "35/35 [==============================] - 5s 145ms/step\n",
      "80 speed mse for test tub 2-1-CW-80 is 0.3294612332873183\n",
      "37/37 [==============================] - 5s 144ms/step\n",
      "80 speed mse for test tub 4-1-CC-80 is 0.34877561781137656\n",
      "Getting 85-speed mse-s for model trained with 2-2-CW-90\n",
      "34/34 [==============================] - 5s 146ms/step\n",
      "85 speed mse for test tub 1-3-CC-85 is 0.36117134545679375\n",
      "48/48 [==============================] - 7s 156ms/step\n",
      "85 speed mse for test tub 2-3-CW-85 is 0.3668477332596102\n",
      "32/32 [==============================] - 5s 166ms/step\n",
      "85 speed mse for test tub 3-3-CW-85 is 0.30774342348914335\n",
      "35/35 [==============================] - 5s 147ms/step\n",
      "85 speed mse for test tub 4-3-CC-85 is 0.34862467847683654\n",
      "Getting 90-speed mse-s for model trained with 2-2-CW-90\n",
      "36/36 [==============================] - 16s 453ms/step\n",
      "90 speed mse for test tub 1-2-CC-90 is 0.48791166427353977\n",
      "41/41 [==============================] - 6s 148ms/step\n",
      "90 speed mse for test tub 3-2-CW-90 is 0.4669361469947653\n",
      "49/49 [==============================] - 7s 146ms/step\n"
     ]
    },
    {
     "name": "stderr",
     "output_type": "stream",
     "text": [
      "INFO:donkeycar.parts.keras:Created KerasLinearOnlySteering with interpreter: KerasInterpreter\n"
     ]
    },
    {
     "name": "stdout",
     "output_type": "stream",
     "text": [
      "90 speed mse for test tub 4-2-CC-90 is 0.4565561262428726\n",
      "Records # Training 80\n",
      "Records # Validation 20\n"
     ]
    },
    {
     "data": {
      "text/plain": "<IPython.core.display.HTML object>",
      "text/html": "Finishing last run (ID:3iwm4xxv) before initializing another..."
     },
     "metadata": {},
     "output_type": "display_data"
    },
    {
     "data": {
      "text/plain": "<IPython.core.display.HTML object>",
      "text/html": "<br/>Waiting for W&B process to finish, PID 50563... <strong style=\"color:green\">(success).</strong>"
     },
     "metadata": {},
     "output_type": "display_data"
    },
    {
     "data": {
      "text/plain": "VBox(children=(Label(value=' 9.44MB of 9.44MB uploaded (0.00MB deduped)\\r'), FloatProgress(value=1.0, max=1.0)…",
      "application/vnd.jupyter.widget-view+json": {
       "version_major": 2,
       "version_minor": 0,
       "model_id": "828e1767778543379478e074d3cb1d2b"
      }
     },
     "metadata": {},
     "output_type": "display_data"
    },
    {
     "data": {
      "text/plain": "<IPython.core.display.HTML object>",
      "text/html": "<style>\n    table.wandb td:nth-child(1) { padding: 0 10px; text-align: right }\n    .wandb-row { display: flex; flex-direction: row; flex-wrap: wrap; width: 100% }\n    .wandb-col { display: flex; flex-direction: column; flex-basis: 100%; flex: 1; padding: 10px; }\n    </style>\n<div class=\"wandb-row\"><div class=\"wandb-col\">\n<h3>Run history:</h3><br/><table class=\"wandb\"><tr><td>epoch</td><td>▁▂▃▄▅▅▆▇█</td></tr><tr><td>loss</td><td>▁▁█▁▂▁▂▂▂</td></tr><tr><td>n_outputs0_loss</td><td>▁▁█▁▂▁▂▂▂</td></tr><tr><td>n_outputs1_loss</td><td>█▆▁▆▇████</td></tr><tr><td>val_loss</td><td>▁█▁▁▁▁▁▁▁</td></tr><tr><td>val_n_outputs0_loss</td><td>▁█▁▁▁▁▁▁▁</td></tr><tr><td>val_n_outputs1_loss</td><td>▇▁▆▇█████</td></tr></table><br/></div><div class=\"wandb-col\">\n<h3>Run summary:</h3><br/><table class=\"wandb\"><tr><td>80_speed_test_loss</td><td>0.34878</td></tr><tr><td>85_speed_test_loss</td><td>0.34862</td></tr><tr><td>90_speed_test_loss</td><td>0.45656</td></tr><tr><td>best_epoch</td><td>3</td></tr><tr><td>best_val_loss</td><td>0.05282</td></tr><tr><td>epoch</td><td>8</td></tr><tr><td>loss</td><td>0.32105</td></tr><tr><td>n_outputs0_loss</td><td>0.32105</td></tr><tr><td>n_outputs1_loss</td><td>0.78882</td></tr><tr><td>val_loss</td><td>0.0556</td></tr><tr><td>val_n_outputs0_loss</td><td>0.0556</td></tr><tr><td>val_n_outputs1_loss</td><td>0.79402</td></tr></table>\n</div></div>\nSynced 6 W&B file(s), 1 media file(s), 0 artifact file(s) and 1 other file(s)\n<br/>Synced <strong style=\"color:#cdcd00\">serene-smoke-32</strong>: <a href=\"https://wandb.ai/kristjan/master-thesis/runs/3iwm4xxv\" target=\"_blank\">https://wandb.ai/kristjan/master-thesis/runs/3iwm4xxv</a><br/>\nFind logs at: <code>./wandb/run-20220213_220555-3iwm4xxv/logs</code><br/>\n"
     },
     "metadata": {},
     "output_type": "display_data"
    },
    {
     "data": {
      "text/plain": "<IPython.core.display.HTML object>",
      "text/html": "Successfully finished last run (ID:3iwm4xxv). Initializing new run:<br/>"
     },
     "metadata": {},
     "output_type": "display_data"
    },
    {
     "data": {
      "text/plain": "<IPython.core.display.HTML object>",
      "text/html": "\n                    Syncing run <strong><a href=\"https://wandb.ai/kristjan/master-thesis/runs/1jhcmoz6\" target=\"_blank\">worldly-plant-33</a></strong> to <a href=\"https://wandb.ai/kristjan/master-thesis\" target=\"_blank\">Weights & Biases</a> (<a href=\"https://docs.wandb.com/integrations/jupyter.html\" target=\"_blank\">docs</a>).<br/>\n\n                "
     },
     "metadata": {},
     "output_type": "display_data"
    },
    {
     "name": "stdout",
     "output_type": "stream",
     "text": [
      "Epoch 1/100\n",
      "1/1 [==============================] - ETA: 0s - loss: 0.2363 - n_outputs0_loss: 0.2363 - n_outputs1_loss: 0.9139\n",
      "Epoch 00001: val_loss improved from inf to 0.55104, saving model to /Users/kristjan.roosild/OneDrive/kool/maka/models/KerasLinearOnlySteering-tub-3-2-CW-90.h5\n",
      "1/1 [==============================] - 0s 409ms/step - loss: 0.2363 - n_outputs0_loss: 0.2363 - n_outputs1_loss: 0.9139 - val_loss: 0.5510 - val_n_outputs0_loss: 0.5510 - val_n_outputs1_loss: 1.2104\n",
      "Epoch 2/100\n",
      "1/1 [==============================] - ETA: 0s - loss: 0.8608 - n_outputs0_loss: 0.8608 - n_outputs1_loss: 1.4400\n",
      "Epoch 00002: val_loss improved from 0.55104 to 0.04970, saving model to /Users/kristjan.roosild/OneDrive/kool/maka/models/KerasLinearOnlySteering-tub-3-2-CW-90.h5\n",
      "1/1 [==============================] - 0s 317ms/step - loss: 0.8608 - n_outputs0_loss: 0.8608 - n_outputs1_loss: 1.4400 - val_loss: 0.0497 - val_n_outputs0_loss: 0.0497 - val_n_outputs1_loss: 0.8972\n",
      "Epoch 3/100\n",
      "1/1 [==============================] - ETA: 0s - loss: 0.2755 - n_outputs0_loss: 0.2755 - n_outputs1_loss: 1.0102\n",
      "Epoch 00003: val_loss did not improve from 0.04970\n",
      "1/1 [==============================] - 0s 216ms/step - loss: 0.2755 - n_outputs0_loss: 0.2755 - n_outputs1_loss: 1.0102 - val_loss: 0.0535 - val_n_outputs0_loss: 0.0535 - val_n_outputs1_loss: 0.8623\n",
      "Epoch 4/100\n",
      "1/1 [==============================] - ETA: 0s - loss: 0.3227 - n_outputs0_loss: 0.3227 - n_outputs1_loss: 0.9307\n",
      "Epoch 00004: val_loss did not improve from 0.04970\n",
      "1/1 [==============================] - 0s 218ms/step - loss: 0.3227 - n_outputs0_loss: 0.3227 - n_outputs1_loss: 0.9307 - val_loss: 0.0530 - val_n_outputs0_loss: 0.0530 - val_n_outputs1_loss: 0.8542\n",
      "Epoch 5/100\n",
      "1/1 [==============================] - ETA: 0s - loss: 0.3877 - n_outputs0_loss: 0.3877 - n_outputs1_loss: 0.9027\n",
      "Epoch 00005: val_loss did not improve from 0.04970\n",
      "1/1 [==============================] - 0s 196ms/step - loss: 0.3877 - n_outputs0_loss: 0.3877 - n_outputs1_loss: 0.9027 - val_loss: 0.0516 - val_n_outputs0_loss: 0.0516 - val_n_outputs1_loss: 0.8627\n",
      "Epoch 6/100\n",
      "1/1 [==============================] - ETA: 0s - loss: 0.2409 - n_outputs0_loss: 0.2409 - n_outputs1_loss: 0.9096\n",
      "Epoch 00006: val_loss improved from 0.04970 to 0.04866, saving model to /Users/kristjan.roosild/OneDrive/kool/maka/models/KerasLinearOnlySteering-tub-3-2-CW-90.h5\n",
      "1/1 [==============================] - 0s 306ms/step - loss: 0.2409 - n_outputs0_loss: 0.2409 - n_outputs1_loss: 0.9096 - val_loss: 0.0487 - val_n_outputs0_loss: 0.0487 - val_n_outputs1_loss: 0.8953\n",
      "Epoch 7/100\n",
      "1/1 [==============================] - ETA: 0s - loss: 0.3446 - n_outputs0_loss: 0.3446 - n_outputs1_loss: 0.9684\n",
      "Epoch 00007: val_loss improved from 0.04866 to 0.04630, saving model to /Users/kristjan.roosild/OneDrive/kool/maka/models/KerasLinearOnlySteering-tub-3-2-CW-90.h5\n",
      "1/1 [==============================] - 0s 343ms/step - loss: 0.3446 - n_outputs0_loss: 0.3446 - n_outputs1_loss: 0.9684 - val_loss: 0.0463 - val_n_outputs0_loss: 0.0463 - val_n_outputs1_loss: 0.9674\n",
      "Epoch 8/100\n",
      "1/1 [==============================] - ETA: 0s - loss: 0.2559 - n_outputs0_loss: 0.2559 - n_outputs1_loss: 1.0820\n",
      "Epoch 00008: val_loss did not improve from 0.04630\n",
      "1/1 [==============================] - 0s 211ms/step - loss: 0.2559 - n_outputs0_loss: 0.2559 - n_outputs1_loss: 1.0820 - val_loss: 0.0725 - val_n_outputs0_loss: 0.0725 - val_n_outputs1_loss: 1.1574\n",
      "Epoch 9/100\n",
      "1/1 [==============================] - ETA: 0s - loss: 0.2845 - n_outputs0_loss: 0.2845 - n_outputs1_loss: 1.3531\n",
      "Epoch 00009: val_loss did not improve from 0.04630\n",
      "1/1 [==============================] - 0s 211ms/step - loss: 0.2845 - n_outputs0_loss: 0.2845 - n_outputs1_loss: 1.3531 - val_loss: 0.0781 - val_n_outputs0_loss: 0.0781 - val_n_outputs1_loss: 1.1446\n",
      "Epoch 10/100\n",
      "1/1 [==============================] - ETA: 0s - loss: 0.2682 - n_outputs0_loss: 0.2682 - n_outputs1_loss: 1.3221\n",
      "Epoch 00010: val_loss did not improve from 0.04630\n",
      "1/1 [==============================] - 0s 201ms/step - loss: 0.2682 - n_outputs0_loss: 0.2682 - n_outputs1_loss: 1.3221 - val_loss: 0.0817 - val_n_outputs0_loss: 0.0817 - val_n_outputs1_loss: 1.1282\n",
      "Epoch 11/100\n",
      "1/1 [==============================] - ETA: 0s - loss: 0.2614 - n_outputs0_loss: 0.2614 - n_outputs1_loss: 1.2970\n",
      "Epoch 00011: val_loss did not improve from 0.04630\n",
      "1/1 [==============================] - 0s 210ms/step - loss: 0.2614 - n_outputs0_loss: 0.2614 - n_outputs1_loss: 1.2970 - val_loss: 0.0529 - val_n_outputs0_loss: 0.0529 - val_n_outputs1_loss: 1.0085\n",
      "Epoch 12/100\n",
      "1/1 [==============================] - ETA: 0s - loss: 0.2764 - n_outputs0_loss: 0.2764 - n_outputs1_loss: 1.1209\n",
      "Epoch 00012: val_loss did not improve from 0.04630\n",
      "1/1 [==============================] - 0s 203ms/step - loss: 0.2764 - n_outputs0_loss: 0.2764 - n_outputs1_loss: 1.1209 - val_loss: 0.0479 - val_n_outputs0_loss: 0.0479 - val_n_outputs1_loss: 0.9650\n",
      "Getting 80-speed mse-s for model trained with 3-2-CW-90\n",
      "35/35 [==============================] - 5s 143ms/step\n",
      "80 speed mse for test tub 1-1-CC-80 is 0.38935626632075965\n",
      "35/35 [==============================] - 5s 144ms/step\n",
      "80 speed mse for test tub 2-1-CW-80 is 0.27024113179822334\n",
      "37/37 [==============================] - 5s 145ms/step\n",
      "80 speed mse for test tub 4-1-CC-80 is 0.41017649148687846\n",
      "Getting 85-speed mse-s for model trained with 3-2-CW-90\n",
      "34/34 [==============================] - 5s 143ms/step\n",
      "85 speed mse for test tub 1-3-CC-85 is 0.4214964896345437\n",
      "48/48 [==============================] - 7s 146ms/step\n",
      "85 speed mse for test tub 2-3-CW-85 is 0.30242154411466704\n",
      "32/32 [==============================] - 5s 145ms/step\n",
      "85 speed mse for test tub 3-3-CW-85 is 0.2507140830503657\n",
      "35/35 [==============================] - 5s 153ms/step\n",
      "85 speed mse for test tub 4-3-CC-85 is 0.4134969843293116\n",
      "Getting 90-speed mse-s for model trained with 3-2-CW-90\n",
      "36/36 [==============================] - 5s 148ms/step\n",
      "90 speed mse for test tub 1-2-CC-90 is 0.562542463025652\n",
      "10/10 [==============================] - 1s 132ms/step\n",
      "90 speed mse for test tub 2-2-CW-90 is 0.330347382738245\n",
      "49/49 [==============================] - 8s 157ms/step\n",
      "90 speed mse for test tub 4-2-CC-90 is 0.5267841863784088\n"
     ]
    },
    {
     "name": "stderr",
     "output_type": "stream",
     "text": [
      "INFO:donkeycar.parts.keras:Created KerasLinearOnlySteering with interpreter: KerasInterpreter\n"
     ]
    },
    {
     "name": "stdout",
     "output_type": "stream",
     "text": [
      "Records # Training 80\n",
      "Records # Validation 20\n"
     ]
    },
    {
     "data": {
      "text/plain": "<IPython.core.display.HTML object>",
      "text/html": "Finishing last run (ID:1jhcmoz6) before initializing another..."
     },
     "metadata": {},
     "output_type": "display_data"
    },
    {
     "data": {
      "text/plain": "<IPython.core.display.HTML object>",
      "text/html": "<br/>Waiting for W&B process to finish, PID 50843... <strong style=\"color:green\">(success).</strong>"
     },
     "metadata": {},
     "output_type": "display_data"
    },
    {
     "data": {
      "text/plain": "VBox(children=(Label(value=' 6.40MB of 6.40MB uploaded (0.00MB deduped)\\r'), FloatProgress(value=1.0, max=1.0)…",
      "application/vnd.jupyter.widget-view+json": {
       "version_major": 2,
       "version_minor": 0,
       "model_id": "3c7d65491bd141ffbaaf748bce546393"
      }
     },
     "metadata": {},
     "output_type": "display_data"
    },
    {
     "data": {
      "text/plain": "<IPython.core.display.HTML object>",
      "text/html": "<style>\n    table.wandb td:nth-child(1) { padding: 0 10px; text-align: right }\n    .wandb-row { display: flex; flex-direction: row; flex-wrap: wrap; width: 100% }\n    .wandb-col { display: flex; flex-direction: column; flex-basis: 100%; flex: 1; padding: 10px; }\n    </style>\n<div class=\"wandb-row\"><div class=\"wandb-col\">\n<h3>Run history:</h3><br/><table class=\"wandb\"><tr><td>epoch</td><td>▁▂▂▃▄▄▅▅▆▇▇█</td></tr><tr><td>loss</td><td>▁█▁▂▃▁▂▁▂▁▁▁</td></tr><tr><td>n_outputs0_loss</td><td>▁█▁▂▃▁▂▁▂▁▁▁</td></tr><tr><td>n_outputs1_loss</td><td>▁█▂▁▁▁▂▃▇▆▆▄</td></tr><tr><td>val_loss</td><td>█▁▁▁▁▁▁▁▁▁▁▁</td></tr><tr><td>val_n_outputs0_loss</td><td>█▁▁▁▁▁▁▁▁▁▁▁</td></tr><tr><td>val_n_outputs1_loss</td><td>█▂▁▁▁▂▃▇▇▆▄▃</td></tr></table><br/></div><div class=\"wandb-col\">\n<h3>Run summary:</h3><br/><table class=\"wandb\"><tr><td>80_speed_test_loss</td><td>0.41018</td></tr><tr><td>85_speed_test_loss</td><td>0.4135</td></tr><tr><td>90_speed_test_loss</td><td>0.52678</td></tr><tr><td>best_epoch</td><td>6</td></tr><tr><td>best_val_loss</td><td>0.0463</td></tr><tr><td>epoch</td><td>11</td></tr><tr><td>loss</td><td>0.27644</td></tr><tr><td>n_outputs0_loss</td><td>0.27644</td></tr><tr><td>n_outputs1_loss</td><td>1.1209</td></tr><tr><td>val_loss</td><td>0.04788</td></tr><tr><td>val_n_outputs0_loss</td><td>0.04788</td></tr><tr><td>val_n_outputs1_loss</td><td>0.96504</td></tr></table>\n</div></div>\nSynced 6 W&B file(s), 1 media file(s), 0 artifact file(s) and 1 other file(s)\n<br/>Synced <strong style=\"color:#cdcd00\">worldly-plant-33</strong>: <a href=\"https://wandb.ai/kristjan/master-thesis/runs/1jhcmoz6\" target=\"_blank\">https://wandb.ai/kristjan/master-thesis/runs/1jhcmoz6</a><br/>\nFind logs at: <code>./wandb/run-20220213_220739-1jhcmoz6/logs</code><br/>\n"
     },
     "metadata": {},
     "output_type": "display_data"
    },
    {
     "data": {
      "text/plain": "<IPython.core.display.HTML object>",
      "text/html": "Successfully finished last run (ID:1jhcmoz6). Initializing new run:<br/>"
     },
     "metadata": {},
     "output_type": "display_data"
    },
    {
     "data": {
      "text/plain": "<IPython.core.display.HTML object>",
      "text/html": "\n                    Syncing run <strong><a href=\"https://wandb.ai/kristjan/master-thesis/runs/18egiq1n\" target=\"_blank\">azure-salad-34</a></strong> to <a href=\"https://wandb.ai/kristjan/master-thesis\" target=\"_blank\">Weights & Biases</a> (<a href=\"https://docs.wandb.com/integrations/jupyter.html\" target=\"_blank\">docs</a>).<br/>\n\n                "
     },
     "metadata": {},
     "output_type": "display_data"
    },
    {
     "name": "stdout",
     "output_type": "stream",
     "text": [
      "Epoch 1/100\n",
      "1/1 [==============================] - ETA: 0s - loss: 0.5136 - n_outputs0_loss: 0.5136 - n_outputs1_loss: 0.9161\n",
      "Epoch 00001: val_loss improved from inf to 2.35783, saving model to /Users/kristjan.roosild/OneDrive/kool/maka/models/KerasLinearOnlySteering-tub-4-2-CC-90.h5\n",
      "1/1 [==============================] - 1s 706ms/step - loss: 0.5136 - n_outputs0_loss: 0.5136 - n_outputs1_loss: 0.9161 - val_loss: 2.3578 - val_n_outputs0_loss: 2.3578 - val_n_outputs1_loss: 0.8734\n",
      "Epoch 2/100\n",
      "1/1 [==============================] - ETA: 0s - loss: 1.1407 - n_outputs0_loss: 1.1407 - n_outputs1_loss: 0.8774\n",
      "Epoch 00002: val_loss improved from 2.35783 to 1.07967, saving model to /Users/kristjan.roosild/OneDrive/kool/maka/models/KerasLinearOnlySteering-tub-4-2-CC-90.h5\n",
      "1/1 [==============================] - 1s 647ms/step - loss: 1.1407 - n_outputs0_loss: 1.1407 - n_outputs1_loss: 0.8774 - val_loss: 1.0797 - val_n_outputs0_loss: 1.0797 - val_n_outputs1_loss: 0.7773\n",
      "Epoch 3/100\n",
      "1/1 [==============================] - ETA: 0s - loss: 0.5231 - n_outputs0_loss: 0.5231 - n_outputs1_loss: 0.7390\n",
      "Epoch 00003: val_loss improved from 1.07967 to 1.02868, saving model to /Users/kristjan.roosild/OneDrive/kool/maka/models/KerasLinearOnlySteering-tub-4-2-CC-90.h5\n",
      "1/1 [==============================] - 1s 658ms/step - loss: 0.5231 - n_outputs0_loss: 0.5231 - n_outputs1_loss: 0.7390 - val_loss: 1.0287 - val_n_outputs0_loss: 1.0287 - val_n_outputs1_loss: 0.7952\n",
      "Epoch 4/100\n",
      "1/1 [==============================] - ETA: 0s - loss: 0.4867 - n_outputs0_loss: 0.4867 - n_outputs1_loss: 0.7687\n",
      "Epoch 00004: val_loss improved from 1.02868 to 1.02116, saving model to /Users/kristjan.roosild/OneDrive/kool/maka/models/KerasLinearOnlySteering-tub-4-2-CC-90.h5\n",
      "1/1 [==============================] - 1s 655ms/step - loss: 0.4867 - n_outputs0_loss: 0.4867 - n_outputs1_loss: 0.7687 - val_loss: 1.0212 - val_n_outputs0_loss: 1.0212 - val_n_outputs1_loss: 0.8005\n",
      "Epoch 5/100\n",
      "1/1 [==============================] - ETA: 0s - loss: 0.6694 - n_outputs0_loss: 0.6694 - n_outputs1_loss: 0.7829\n",
      "Epoch 00005: val_loss did not improve from 1.02116\n",
      "1/1 [==============================] - 0s 232ms/step - loss: 0.6694 - n_outputs0_loss: 0.6694 - n_outputs1_loss: 0.7829 - val_loss: 1.0222 - val_n_outputs0_loss: 1.0222 - val_n_outputs1_loss: 0.8011\n",
      "Epoch 6/100\n",
      "1/1 [==============================] - ETA: 0s - loss: 0.4704 - n_outputs0_loss: 0.4704 - n_outputs1_loss: 0.7791\n",
      "Epoch 00006: val_loss did not improve from 1.02116\n",
      "1/1 [==============================] - 0s 346ms/step - loss: 0.4704 - n_outputs0_loss: 0.4704 - n_outputs1_loss: 0.7791 - val_loss: 1.0299 - val_n_outputs0_loss: 1.0299 - val_n_outputs1_loss: 0.7980\n",
      "Epoch 7/100\n",
      "1/1 [==============================] - ETA: 0s - loss: 0.5462 - n_outputs0_loss: 0.5462 - n_outputs1_loss: 0.7746\n",
      "Epoch 00007: val_loss did not improve from 1.02116\n",
      "1/1 [==============================] - 0s 231ms/step - loss: 0.5462 - n_outputs0_loss: 0.5462 - n_outputs1_loss: 0.7746 - val_loss: 1.0414 - val_n_outputs0_loss: 1.0414 - val_n_outputs1_loss: 0.7898\n",
      "Epoch 8/100\n",
      "1/1 [==============================] - ETA: 0s - loss: 0.5404 - n_outputs0_loss: 0.5404 - n_outputs1_loss: 0.7619\n",
      "Epoch 00008: val_loss did not improve from 1.02116\n",
      "1/1 [==============================] - 0s 216ms/step - loss: 0.5404 - n_outputs0_loss: 0.5404 - n_outputs1_loss: 0.7619 - val_loss: 1.0936 - val_n_outputs0_loss: 1.0936 - val_n_outputs1_loss: 0.7620\n",
      "Epoch 9/100\n",
      "1/1 [==============================] - ETA: 0s - loss: 0.4886 - n_outputs0_loss: 0.4886 - n_outputs1_loss: 0.7302\n",
      "Epoch 00009: val_loss did not improve from 1.02116\n",
      "1/1 [==============================] - 0s 224ms/step - loss: 0.4886 - n_outputs0_loss: 0.4886 - n_outputs1_loss: 0.7302 - val_loss: 1.1299 - val_n_outputs0_loss: 1.1299 - val_n_outputs1_loss: 0.7410\n",
      "Getting 80-speed mse-s for model trained with 4-2-CC-90\n",
      "35/35 [==============================] - 5s 148ms/step\n",
      "80 speed mse for test tub 1-1-CC-80 is 0.3588669157325648\n",
      "35/35 [==============================] - 6s 163ms/step\n",
      "80 speed mse for test tub 2-1-CW-80 is 0.29866052488042955\n",
      "37/37 [==============================] - 7s 184ms/step\n",
      "80 speed mse for test tub 4-1-CC-80 is 0.3751488004834325\n",
      "Getting 85-speed mse-s for model trained with 4-2-CC-90\n",
      "34/34 [==============================] - 6s 172ms/step\n",
      "85 speed mse for test tub 1-3-CC-85 is 0.3871548340830688\n",
      "48/48 [==============================] - 8s 172ms/step\n",
      "85 speed mse for test tub 2-3-CW-85 is 0.3336320457673053\n",
      "32/32 [==============================] - 5s 169ms/step\n",
      "85 speed mse for test tub 3-3-CW-85 is 0.27812523148682733\n",
      "35/35 [==============================] - 6s 157ms/step\n",
      "85 speed mse for test tub 4-3-CC-85 is 0.37674781624437387\n",
      "Getting 90-speed mse-s for model trained with 4-2-CC-90\n",
      "36/36 [==============================] - 6s 156ms/step\n",
      "90 speed mse for test tub 1-2-CC-90 is 0.5206633274751548\n",
      "10/10 [==============================] - 2s 171ms/step\n",
      "90 speed mse for test tub 2-2-CW-90 is 0.3578326823678172\n",
      "41/41 [==============================] - 7s 172ms/step\n",
      "90 speed mse for test tub 3-2-CW-90 is 0.4314753001198666\n"
     ]
    },
    {
     "data": {
      "text/plain": "<Figure size 432x288 with 1 Axes>",
      "image/png": "[encoded data removed]"
     },
     "metadata": {
      "needs_background": "light"
     },
     "output_type": "display_data"
    }
   ],
   "source": [
    "from collections import defaultdict\n",
    "\n",
    "losses = defaultdict(dict)\n",
    "\n",
    "for tub_name, records in tub_records_90_speed.items():\n",
    "    model = train_tub_1_frame_model(tub_name, records, cfg)\n",
    "\n",
    "    test_losses_for_80_speed, test_losses_for_85_speed, test_losses_for_90_speed = get_test_metrics(\n",
    "        model, tub_name, tub_records_80_speed, tub_records_85_speed, tub_records_90_speed\n",
    "    )\n",
    "\n",
    "    losses.update(test_losses_for_80_speed)\n",
    "    losses.update(test_losses_for_85_speed)\n",
    "    losses.update(test_losses_for_90_speed)"
   ],
   "metadata": {
    "collapsed": false,
    "pycharm": {
     "name": "#%%\n"
    }
   }
  },
  {
   "cell_type": "code",
   "execution_count": null,
   "outputs": [],
   "source": [],
   "metadata": {
    "collapsed": false,
    "pycharm": {
     "name": "#%%\n"
    }
   }
  }
 ],
 "metadata": {
  "kernelspec": {
   "display_name": "Python 3",
   "language": "python",
   "name": "python3"
  },
  "language_info": {
   "codemirror_mode": {
    "name": "ipython",
    "version": 2
   },
   "file_extension": ".py",
   "mimetype": "text/x-python",
   "name": "python",
   "nbconvert_exporter": "python",
   "pygments_lexer": "ipython2",
   "version": "2.7.6"
  }
 },
 "nbformat": 4,
 "nbformat_minor": 0
}